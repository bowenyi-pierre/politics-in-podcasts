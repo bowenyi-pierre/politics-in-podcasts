{
 "cells": [
  {
   "cell_type": "code",
   "execution_count": 1,
   "id": "a0408eba",
   "metadata": {},
   "outputs": [],
   "source": [
    "import pandas as pd\n",
    "import numpy as np\n",
    "from scipy.special import softmax\n",
    "from sklearn.linear_model import LogisticRegression\n",
    "from sklearn.metrics import confusion_matrix\n",
    "from sklearn.feature_extraction.text import TfidfVectorizer\n",
    "from sklearn.metrics import f1_score\n",
    "from sklearn.model_selection import train_test_split"
   ]
  },
  {
   "cell_type": "code",
   "execution_count": 2,
   "id": "3b7f54ff",
   "metadata": {},
   "outputs": [],
   "source": [
    "pd.set_option('display.max_rows', None)\n",
    "pd.set_option('display.max_columns', None)\n",
    "pd.set_option('display.width', None)\n",
    "pd.set_option('display.max_colwidth', None)"
   ]
  },
  {
   "cell_type": "code",
   "execution_count": 5,
   "id": "6c98f6f2",
   "metadata": {},
   "outputs": [],
   "source": [
    "df_red = pd.read_csv('08_reddit.csv')\n",
    "df_chunks_train = pd.read_csv('df_chunks_train.csv')\n",
    "df_chunks_dev = pd.read_csv('df_chunks_dev.csv')\n",
    "df_chunks_test = pd.read_csv('df_chunks_test.csv')\n"
   ]
  },
  {
   "cell_type": "code",
   "execution_count": 6,
   "id": "c4468536",
   "metadata": {},
   "outputs": [
    {
     "data": {
      "text/html": [
       "<div>\n",
       "<style scoped>\n",
       "    .dataframe tbody tr th:only-of-type {\n",
       "        vertical-align: middle;\n",
       "    }\n",
       "\n",
       "    .dataframe tbody tr th {\n",
       "        vertical-align: top;\n",
       "    }\n",
       "\n",
       "    .dataframe thead th {\n",
       "        text-align: right;\n",
       "    }\n",
       "</style>\n",
       "<table border=\"1\" class=\"dataframe\">\n",
       "  <thead>\n",
       "    <tr style=\"text-align: right;\">\n",
       "      <th></th>\n",
       "      <th>text</th>\n",
       "      <th>label</th>\n",
       "      <th>path</th>\n",
       "      <th>chunk_pos</th>\n",
       "      <th>cat1</th>\n",
       "      <th>cat2</th>\n",
       "      <th>cat3</th>\n",
       "      <th>cat4</th>\n",
       "      <th>cat5</th>\n",
       "      <th>cat6</th>\n",
       "      <th>cat7</th>\n",
       "      <th>cat8</th>\n",
       "      <th>cat9</th>\n",
       "      <th>cat10</th>\n",
       "    </tr>\n",
       "  </thead>\n",
       "  <tbody>\n",
       "    <tr>\n",
       "      <th>0</th>\n",
       "      <td>ike we could go on forever, but I know we've got the both of us have something coming up in 15 minutes. \", \"What's what's you</td>\n",
       "      <td>1</td>\n",
       "      <td>/www.buzzsprout.com/ie/httpswww.buzzsprout.com1636013710918c19inriindiemediasexpandingroleinmainstreamnewscoveragewithconvergencerisrichardasinof.mp3MERGED</td>\n",
       "      <td>257</td>\n",
       "      <td>news</td>\n",
       "      <td>daily</td>\n",
       "      <td>politics</td>\n",
       "      <td>commentary</td>\n",
       "      <td>NaN</td>\n",
       "      <td>NaN</td>\n",
       "      <td>NaN</td>\n",
       "      <td>NaN</td>\n",
       "      <td>NaN</td>\n",
       "      <td>NaN</td>\n",
       "    </tr>\n",
       "  </tbody>\n",
       "</table>\n",
       "</div>"
      ],
      "text/plain": [
       "                                                                                                                            text  \\\n",
       "0  ike we could go on forever, but I know we've got the both of us have something coming up in 15 minutes. \", \"What's what's you   \n",
       "\n",
       "   label  \\\n",
       "0      1   \n",
       "\n",
       "                                                                                                                                                          path  \\\n",
       "0  /www.buzzsprout.com/ie/httpswww.buzzsprout.com1636013710918c19inriindiemediasexpandingroleinmainstreamnewscoveragewithconvergencerisrichardasinof.mp3MERGED   \n",
       "\n",
       "   chunk_pos  cat1   cat2      cat3        cat4 cat5 cat6 cat7  cat8  cat9  \\\n",
       "0        257  news  daily  politics  commentary  NaN  NaN  NaN   NaN   NaN   \n",
       "\n",
       "   cat10  \n",
       "0    NaN  "
      ]
     },
     "execution_count": 6,
     "metadata": {},
     "output_type": "execute_result"
    }
   ],
   "source": [
    "df_chunks_train.head(1)"
   ]
  },
  {
   "cell_type": "code",
   "execution_count": 7,
   "id": "cbab0406",
   "metadata": {},
   "outputs": [],
   "source": [
    "df_chunks = pd.concat([df_chunks_train, df_chunks_dev, df_chunks_test])\n"
   ]
  },
  {
   "cell_type": "code",
   "execution_count": 8,
   "id": "127e2508",
   "metadata": {},
   "outputs": [],
   "source": [
    "df_chunks = df_chunks.sample(frac=0.15, random_state=1).reset_index(drop=True)\n"
   ]
  },
  {
   "cell_type": "code",
   "execution_count": 9,
   "id": "7953bf67",
   "metadata": {},
   "outputs": [
    {
     "data": {
      "text/plain": [
       "(26255, 14)"
      ]
     },
     "execution_count": 9,
     "metadata": {},
     "output_type": "execute_result"
    }
   ],
   "source": [
    "df_chunks.shape"
   ]
  },
  {
   "cell_type": "code",
   "execution_count": 10,
   "id": "339ed8da",
   "metadata": {},
   "outputs": [],
   "source": [
    "df_chunks = pd.concat([df_chunks, df_red])"
   ]
  },
  {
   "cell_type": "code",
   "execution_count": 12,
   "id": "dcde0600",
   "metadata": {},
   "outputs": [
    {
     "data": {
      "text/plain": [
       "(39109, 23)"
      ]
     },
     "execution_count": 12,
     "metadata": {},
     "output_type": "execute_result"
    }
   ],
   "source": [
    "df_chunks.shape"
   ]
  },
  {
   "cell_type": "code",
   "execution_count": 13,
   "id": "283e3a3c",
   "metadata": {},
   "outputs": [],
   "source": [
    "df_left = df_chunks[df_chunks['label']==0].sample(n=16000, random_state=1).reset_index(drop=True)\n"
   ]
  },
  {
   "cell_type": "code",
   "execution_count": 15,
   "id": "21f8996a",
   "metadata": {},
   "outputs": [],
   "source": [
    "df_right = df_chunks[df_chunks['label']==1].reset_index(drop=True)\n"
   ]
  },
  {
   "cell_type": "code",
   "execution_count": 17,
   "id": "635ff80f",
   "metadata": {},
   "outputs": [],
   "source": [
    "df_chunks = pd.concat([df_left, df_right])"
   ]
  },
  {
   "cell_type": "code",
   "execution_count": 18,
   "id": "2c2b152c",
   "metadata": {},
   "outputs": [
    {
     "data": {
      "text/plain": [
       "(27370, 23)"
      ]
     },
     "execution_count": 18,
     "metadata": {},
     "output_type": "execute_result"
    }
   ],
   "source": [
    "df_chunks.shape"
   ]
  },
  {
   "cell_type": "code",
   "execution_count": 20,
   "id": "377d2a99",
   "metadata": {},
   "outputs": [],
   "source": [
    "from sklearn.model_selection import train_test_split\n",
    "\n",
    "df_train, df_test = train_test_split(df_chunks, test_size=0.3, random_state=1)"
   ]
  },
  {
   "cell_type": "code",
   "execution_count": 21,
   "id": "15bc0555",
   "metadata": {},
   "outputs": [],
   "source": [
    "X_train = list(df_train['text'])\n",
    "y_train = list(df_train['label'])\n",
    "\n",
    "X_test = list(df_test['text'])\n",
    "y_test = list(df_test['label'])"
   ]
  },
  {
   "cell_type": "code",
   "execution_count": 22,
   "id": "c77ba182",
   "metadata": {},
   "outputs": [],
   "source": [
    "vectorizer = TfidfVectorizer(ngram_range=(1,2), min_df=5)\n"
   ]
  },
  {
   "cell_type": "code",
   "execution_count": 23,
   "id": "6d2b124a",
   "metadata": {},
   "outputs": [],
   "source": [
    "X_train_vectorized = vectorizer.fit_transform(X_train)\n",
    "X_test_vectorized = vectorizer.transform(X_test)"
   ]
  },
  {
   "cell_type": "code",
   "execution_count": 34,
   "id": "2a1cced6",
   "metadata": {},
   "outputs": [],
   "source": [
    "clf = LogisticRegression(max_iter=500, class_weight = \"balanced\", random_state=1, C=3.0) #, C=2.0\n"
   ]
  },
  {
   "cell_type": "code",
   "execution_count": 35,
   "id": "b0eba5e8",
   "metadata": {},
   "outputs": [
    {
     "data": {
      "text/html": [
       "<style>#sk-container-id-3 {color: black;}#sk-container-id-3 pre{padding: 0;}#sk-container-id-3 div.sk-toggleable {background-color: white;}#sk-container-id-3 label.sk-toggleable__label {cursor: pointer;display: block;width: 100%;margin-bottom: 0;padding: 0.3em;box-sizing: border-box;text-align: center;}#sk-container-id-3 label.sk-toggleable__label-arrow:before {content: \"▸\";float: left;margin-right: 0.25em;color: #696969;}#sk-container-id-3 label.sk-toggleable__label-arrow:hover:before {color: black;}#sk-container-id-3 div.sk-estimator:hover label.sk-toggleable__label-arrow:before {color: black;}#sk-container-id-3 div.sk-toggleable__content {max-height: 0;max-width: 0;overflow: hidden;text-align: left;background-color: #f0f8ff;}#sk-container-id-3 div.sk-toggleable__content pre {margin: 0.2em;color: black;border-radius: 0.25em;background-color: #f0f8ff;}#sk-container-id-3 input.sk-toggleable__control:checked~div.sk-toggleable__content {max-height: 200px;max-width: 100%;overflow: auto;}#sk-container-id-3 input.sk-toggleable__control:checked~label.sk-toggleable__label-arrow:before {content: \"▾\";}#sk-container-id-3 div.sk-estimator input.sk-toggleable__control:checked~label.sk-toggleable__label {background-color: #d4ebff;}#sk-container-id-3 div.sk-label input.sk-toggleable__control:checked~label.sk-toggleable__label {background-color: #d4ebff;}#sk-container-id-3 input.sk-hidden--visually {border: 0;clip: rect(1px 1px 1px 1px);clip: rect(1px, 1px, 1px, 1px);height: 1px;margin: -1px;overflow: hidden;padding: 0;position: absolute;width: 1px;}#sk-container-id-3 div.sk-estimator {font-family: monospace;background-color: #f0f8ff;border: 1px dotted black;border-radius: 0.25em;box-sizing: border-box;margin-bottom: 0.5em;}#sk-container-id-3 div.sk-estimator:hover {background-color: #d4ebff;}#sk-container-id-3 div.sk-parallel-item::after {content: \"\";width: 100%;border-bottom: 1px solid gray;flex-grow: 1;}#sk-container-id-3 div.sk-label:hover label.sk-toggleable__label {background-color: #d4ebff;}#sk-container-id-3 div.sk-serial::before {content: \"\";position: absolute;border-left: 1px solid gray;box-sizing: border-box;top: 0;bottom: 0;left: 50%;z-index: 0;}#sk-container-id-3 div.sk-serial {display: flex;flex-direction: column;align-items: center;background-color: white;padding-right: 0.2em;padding-left: 0.2em;position: relative;}#sk-container-id-3 div.sk-item {position: relative;z-index: 1;}#sk-container-id-3 div.sk-parallel {display: flex;align-items: stretch;justify-content: center;background-color: white;position: relative;}#sk-container-id-3 div.sk-item::before, #sk-container-id-3 div.sk-parallel-item::before {content: \"\";position: absolute;border-left: 1px solid gray;box-sizing: border-box;top: 0;bottom: 0;left: 50%;z-index: -1;}#sk-container-id-3 div.sk-parallel-item {display: flex;flex-direction: column;z-index: 1;position: relative;background-color: white;}#sk-container-id-3 div.sk-parallel-item:first-child::after {align-self: flex-end;width: 50%;}#sk-container-id-3 div.sk-parallel-item:last-child::after {align-self: flex-start;width: 50%;}#sk-container-id-3 div.sk-parallel-item:only-child::after {width: 0;}#sk-container-id-3 div.sk-dashed-wrapped {border: 1px dashed gray;margin: 0 0.4em 0.5em 0.4em;box-sizing: border-box;padding-bottom: 0.4em;background-color: white;}#sk-container-id-3 div.sk-label label {font-family: monospace;font-weight: bold;display: inline-block;line-height: 1.2em;}#sk-container-id-3 div.sk-label-container {text-align: center;}#sk-container-id-3 div.sk-container {/* jupyter's `normalize.less` sets `[hidden] { display: none; }` but bootstrap.min.css set `[hidden] { display: none !important; }` so we also need the `!important` here to be able to override the default hidden behavior on the sphinx rendered scikit-learn.org. See: https://github.com/scikit-learn/scikit-learn/issues/21755 */display: inline-block !important;position: relative;}#sk-container-id-3 div.sk-text-repr-fallback {display: none;}</style><div id=\"sk-container-id-3\" class=\"sk-top-container\"><div class=\"sk-text-repr-fallback\"><pre>LogisticRegression(C=3.0, class_weight=&#x27;balanced&#x27;, max_iter=500, random_state=1)</pre><b>In a Jupyter environment, please rerun this cell to show the HTML representation or trust the notebook. <br />On GitHub, the HTML representation is unable to render, please try loading this page with nbviewer.org.</b></div><div class=\"sk-container\" hidden><div class=\"sk-item\"><div class=\"sk-estimator sk-toggleable\"><input class=\"sk-toggleable__control sk-hidden--visually\" id=\"sk-estimator-id-3\" type=\"checkbox\" checked><label for=\"sk-estimator-id-3\" class=\"sk-toggleable__label sk-toggleable__label-arrow\">LogisticRegression</label><div class=\"sk-toggleable__content\"><pre>LogisticRegression(C=3.0, class_weight=&#x27;balanced&#x27;, max_iter=500, random_state=1)</pre></div></div></div></div></div>"
      ],
      "text/plain": [
       "LogisticRegression(C=3.0, class_weight='balanced', max_iter=500, random_state=1)"
      ]
     },
     "execution_count": 35,
     "metadata": {},
     "output_type": "execute_result"
    }
   ],
   "source": [
    "clf.fit(X_train_vectorized, y_train)"
   ]
  },
  {
   "cell_type": "code",
   "execution_count": 36,
   "id": "cf3b3a1b",
   "metadata": {},
   "outputs": [
    {
     "name": "stdout",
     "output_type": "stream",
     "text": [
      "F1 score on the train set: 0.8599520383693047\n",
      "F1 score on the test set: 0.5771889400921659\n",
      "True Positives: 2004\n",
      "False Positives: 1601\n",
      "True Negatives: 3271\n",
      "False Negatives: 1335\n",
      "True Positive Rate: 0.6002\n",
      "False Positive Rate: 0.3286\n",
      "True Negative Rate: 0.6714\n",
      "False Negative Rate: 0.3998\n"
     ]
    }
   ],
   "source": [
    "\n",
    "y_pred_train = clf.predict(X_train_vectorized)\n",
    "print(\"F1 score on the train set:\", f1_score(y_train, y_pred_train, average='binary'))\n",
    "\n",
    "y_pred_test = clf.predict(X_test_vectorized)\n",
    "print(\"F1 score on the test set:\", f1_score(y_test, y_pred_test, average='binary'))\n",
    "\n",
    "tn, fp, fn, tp = confusion_matrix(y_test, y_pred_test).ravel()\n",
    "\n",
    "tpr = tp / (tp + fn)  # True Positive Rate (Recall)\n",
    "fpr = fp / (fp + tn)  # False Positive Rate\n",
    "tnr = tn / (tn + fp)  # True Negative Rate (Specificity)\n",
    "fnr = fn / (fn + tp)  # False Negative Rate\n",
    "\n",
    "print(f\"True Positives: {tp}\")\n",
    "print(f\"False Positives: {fp}\")\n",
    "print(f\"True Negatives: {tn}\")\n",
    "print(f\"False Negatives: {fn}\")\n",
    "print(f\"True Positive Rate: {tpr:.4f}\")\n",
    "print(f\"False Positive Rate: {fpr:.4f}\")\n",
    "print(f\"True Negative Rate: {tnr:.4f}\")\n",
    "print(f\"False Negative Rate: {fnr:.4f}\")"
   ]
  },
  {
   "cell_type": "code",
   "execution_count": 43,
   "id": "5127b1b1",
   "metadata": {},
   "outputs": [],
   "source": [
    "term_counts = np.squeeze(np.asarray(X_test_vectorized.sum(axis=0)))\n",
    "\n",
    "coefficients = clf.coef_[0]\n",
    "impact_scores = coefficients * np.log(term_counts + 1)\n",
    "\n",
    "feature_names = vectorizer.get_feature_names_out()\n",
    "\n",
    "impact_scores_series = pd.Series(impact_scores, index=feature_names)\n",
    "\n",
    "highest_impact = impact_scores_series.sort_values(ascending=False).head(100)\n",
    "lowest_impact = impact_scores_series.sort_values(ascending=False).tail(100)"
   ]
  },
  {
   "cell_type": "code",
   "execution_count": null,
   "id": "cae0fea8",
   "metadata": {},
   "outputs": [],
   "source": [
    "print(\"30 Highest Impact Terms:\\n\", highest_impact)\n",
    "print(\"\\n25 Lowest Impact Terms:\\n\", lowest_impact)"
   ]
  },
  {
   "cell_type": "code",
   "execution_count": null,
   "id": "735a265e",
   "metadata": {},
   "outputs": [],
   "source": []
  }
 ],
 "metadata": {
  "kernelspec": {
   "display_name": "Python 3 (ipykernel)",
   "language": "python",
   "name": "python3"
  },
  "language_info": {
   "codemirror_mode": {
    "name": "ipython",
    "version": 3
   },
   "file_extension": ".py",
   "mimetype": "text/x-python",
   "name": "python",
   "nbconvert_exporter": "python",
   "pygments_lexer": "ipython3",
   "version": "3.9.12"
  }
 },
 "nbformat": 4,
 "nbformat_minor": 5
}
