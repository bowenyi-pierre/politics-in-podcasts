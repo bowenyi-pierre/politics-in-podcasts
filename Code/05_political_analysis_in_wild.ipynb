{
 "cells": [
  {
   "cell_type": "code",
   "execution_count": 13,
   "id": "891c85ba",
   "metadata": {},
   "outputs": [],
   "source": [
    "import os\n",
    "os.environ[\"CUDA_DEVICE_ORDER\"]=\"PCI_BUS_ID\" \n",
    "device = 1\n",
    "os.environ[\"CUDA_VISIBLE_DEVICES\"]= str(device)"
   ]
  },
  {
   "cell_type": "code",
   "execution_count": 14,
   "id": "844aae16",
   "metadata": {},
   "outputs": [],
   "source": [
    "import pandas as pd"
   ]
  },
  {
   "cell_type": "code",
   "execution_count": 15,
   "id": "870bd0ca",
   "metadata": {},
   "outputs": [],
   "source": [
    "import pandas as pd\n",
    "import numpy as np\n",
    "from scipy.special import softmax\n",
    "from datasets import Dataset\n",
    "from transformers import AutoModelForSequenceClassification, AutoTokenizer\n",
    "from transformers import TrainingArguments, Trainer, set_seed \n",
    "\n",
    "set_seed(42)\n"
   ]
  },
  {
   "cell_type": "code",
   "execution_count": 16,
   "id": "98d2ca97",
   "metadata": {},
   "outputs": [],
   "source": [
    "saved_model_dir = \"best_roberta\"\n",
    "model = AutoModelForSequenceClassification.from_pretrained(saved_model_dir)\n",
    "tokenizer = AutoTokenizer.from_pretrained(saved_model_dir)\n"
   ]
  },
  {
   "cell_type": "code",
   "execution_count": 17,
   "id": "987fb43f",
   "metadata": {},
   "outputs": [],
   "source": [
    "df_heldout = pd.read_csv(\"df_heldout.csv\")\n"
   ]
  },
  {
   "cell_type": "code",
   "execution_count": 18,
   "id": "4a88e422",
   "metadata": {},
   "outputs": [
    {
     "data": {
      "text/plain": [
       "(124553, 14)"
      ]
     },
     "execution_count": 18,
     "metadata": {},
     "output_type": "execute_result"
    }
   ],
   "source": [
    "df_heldout.shape\n"
   ]
  },
  {
   "cell_type": "code",
   "execution_count": 19,
   "id": "fdd292c4",
   "metadata": {},
   "outputs": [
    {
     "data": {
      "text/plain": [
       "Index(['text', 'label', 'path', 'chunk_pos', 'cat1', 'cat2', 'cat3', 'cat4',\n",
       "       'cat5', 'cat6', 'cat7', 'cat8', 'cat9', 'cat10'],\n",
       "      dtype='object')"
      ]
     },
     "execution_count": 19,
     "metadata": {},
     "output_type": "execute_result"
    }
   ],
   "source": [
    "df_heldout.columns"
   ]
  },
  {
   "cell_type": "code",
   "execution_count": 20,
   "id": "4787af30",
   "metadata": {},
   "outputs": [],
   "source": [
    "categories_dict = {cat: [] for cat in df_heldout['cat1'].unique()}\n"
   ]
  },
  {
   "cell_type": "code",
   "execution_count": 21,
   "id": "92a55f39",
   "metadata": {},
   "outputs": [
    {
     "data": {
      "text/plain": [
       "{'news': [],\n",
       " 'education': [],\n",
       " 'history': [],\n",
       " 'sports': [],\n",
       " 'government': [],\n",
       " 'comedy': [],\n",
       " 'politics': [],\n",
       " 'arts': [],\n",
       " 'technology': [],\n",
       " 'business': []}"
      ]
     },
     "execution_count": 21,
     "metadata": {},
     "output_type": "execute_result"
    }
   ],
   "source": [
    "categories_dict\n"
   ]
  },
  {
   "cell_type": "code",
   "execution_count": 22,
   "id": "af367caf",
   "metadata": {},
   "outputs": [],
   "source": [
    "for ind, row in df_heldout.iterrows():\n",
    "    text = row['text']\n",
    "    cat = row['cat1']\n",
    "    categories_dict[cat].append(text)\n"
   ]
  },
  {
   "cell_type": "code",
   "execution_count": 12,
   "id": "14f3a4c8",
   "metadata": {},
   "outputs": [
    {
     "name": "stdout",
     "output_type": "stream",
     "text": [
      "In category news\n"
     ]
    },
    {
     "data": {
      "text/html": [],
      "text/plain": [
       "<IPython.core.display.HTML object>"
      ]
     },
     "metadata": {},
     "output_type": "display_data"
    },
    {
     "name": "stdout",
     "output_type": "stream",
     "text": [
      "prev for right-wing politics in news is 0.013263690210591704\n",
      "In category education\n"
     ]
    },
    {
     "data": {
      "text/html": [],
      "text/plain": [
       "<IPython.core.display.HTML object>"
      ]
     },
     "metadata": {},
     "output_type": "display_data"
    },
    {
     "name": "stdout",
     "output_type": "stream",
     "text": [
      "prev for right-wing politics in education is 0.0\n",
      "In category history\n"
     ]
    },
    {
     "data": {
      "text/html": [],
      "text/plain": [
       "<IPython.core.display.HTML object>"
      ]
     },
     "metadata": {},
     "output_type": "display_data"
    },
    {
     "name": "stdout",
     "output_type": "stream",
     "text": [
      "prev for right-wing politics in history is 0.014157973174366617\n",
      "In category sports\n"
     ]
    },
    {
     "data": {
      "text/html": [],
      "text/plain": [
       "<IPython.core.display.HTML object>"
      ]
     },
     "metadata": {},
     "output_type": "display_data"
    },
    {
     "name": "stdout",
     "output_type": "stream",
     "text": [
      "prev for right-wing politics in sports is 0.002364066193853428\n",
      "In category government\n"
     ]
    },
    {
     "data": {
      "text/html": [],
      "text/plain": [
       "<IPython.core.display.HTML object>"
      ]
     },
     "metadata": {},
     "output_type": "display_data"
    },
    {
     "name": "stdout",
     "output_type": "stream",
     "text": [
      "prev for right-wing politics in government is 0.01249024199843872\n",
      "In category comedy\n"
     ]
    },
    {
     "data": {
      "text/html": [],
      "text/plain": [
       "<IPython.core.display.HTML object>"
      ]
     },
     "metadata": {},
     "output_type": "display_data"
    },
    {
     "name": "stdout",
     "output_type": "stream",
     "text": [
      "prev for right-wing politics in comedy is 0.029242819843342035\n",
      "In category politics\n"
     ]
    },
    {
     "data": {
      "text/html": [],
      "text/plain": [
       "<IPython.core.display.HTML object>"
      ]
     },
     "metadata": {},
     "output_type": "display_data"
    },
    {
     "name": "stdout",
     "output_type": "stream",
     "text": [
      "prev for right-wing politics in politics is 0.023474178403755867\n",
      "In category arts\n"
     ]
    },
    {
     "data": {
      "text/html": [],
      "text/plain": [
       "<IPython.core.display.HTML object>"
      ]
     },
     "metadata": {},
     "output_type": "display_data"
    },
    {
     "name": "stdout",
     "output_type": "stream",
     "text": [
      "prev for right-wing politics in arts is 0.006493506493506494\n",
      "In category technology\n"
     ]
    },
    {
     "data": {
      "text/html": [],
      "text/plain": [
       "<IPython.core.display.HTML object>"
      ]
     },
     "metadata": {},
     "output_type": "display_data"
    },
    {
     "name": "stdout",
     "output_type": "stream",
     "text": [
      "prev for right-wing politics in technology is 0.0064516129032258064\n",
      "In category business\n"
     ]
    },
    {
     "data": {
      "text/html": [],
      "text/plain": [
       "<IPython.core.display.HTML object>"
      ]
     },
     "metadata": {},
     "output_type": "display_data"
    },
    {
     "name": "stdout",
     "output_type": "stream",
     "text": [
      "prev for right-wing politics in business is 0.0\n"
     ]
    }
   ],
   "source": [
    "preds = []\n",
    "for cat in categories_dict:\n",
    "    print(\"In category\", cat)\n",
    "    txt = categories_dict[cat]\n",
    "    tokenized_texts = tokenizer(txt, max_length=256, padding=\"max_length\", truncation=True)\n",
    "    tokenized_texts_dataset = Dataset.from_dict(tokenized_texts)\n",
    "    trainer = Trainer(model=model)\n",
    "    predictions = trainer.predict(tokenized_texts_dataset)\n",
    "    probs = softmax(predictions.predictions, axis=1)[:, 1]\n",
    "    labels = []\n",
    "\n",
    "    for prob in probs:\n",
    "        if prob > 0.70:\n",
    "            labels.append(1)\n",
    "        else:\n",
    "            labels.append(0)\n",
    "\n",
    "    prev_right = sum(labels)/len(labels)\n",
    "    print(f\"prev for right-wing politics in {cat} is {prev_right}\")\n",
    "    preds.append((cat, prev_right))\n"
   ]
  },
  {
   "cell_type": "markdown",
   "id": "780cbe70",
   "metadata": {},
   "source": [
    "# If set threshold to 0.6"
   ]
  },
  {
   "cell_type": "code",
   "execution_count": 23,
   "id": "18e7739e",
   "metadata": {},
   "outputs": [
    {
     "name": "stdout",
     "output_type": "stream",
     "text": [
      "In category news\n"
     ]
    },
    {
     "name": "stderr",
     "output_type": "stream",
     "text": [
      "/opt/anaconda/lib/python3.9/site-packages/accelerate/accelerator.py:432: FutureWarning: Passing the following arguments to `Accelerator` is deprecated and will be removed in version 1.0 of Accelerate: dict_keys(['dispatch_batches', 'split_batches', 'even_batches', 'use_seedable_sampler']). Please pass an `accelerate.DataLoaderConfiguration` instead: \n",
      "dataloader_config = DataLoaderConfiguration(dispatch_batches=None, split_batches=False, even_batches=True, use_seedable_sampler=True)\n",
      "  warnings.warn(\n"
     ]
    },
    {
     "data": {
      "text/html": [],
      "text/plain": [
       "<IPython.core.display.HTML object>"
      ]
     },
     "metadata": {},
     "output_type": "display_data"
    },
    {
     "name": "stdout",
     "output_type": "stream",
     "text": [
      "prev for right-wing politics in news is 0.22546523530801332\n",
      "In category education\n"
     ]
    },
    {
     "data": {
      "text/html": [],
      "text/plain": [
       "<IPython.core.display.HTML object>"
      ]
     },
     "metadata": {},
     "output_type": "display_data"
    },
    {
     "name": "stdout",
     "output_type": "stream",
     "text": [
      "prev for right-wing politics in education is 0.11171450737005431\n",
      "In category history\n"
     ]
    },
    {
     "data": {
      "text/html": [],
      "text/plain": [
       "<IPython.core.display.HTML object>"
      ]
     },
     "metadata": {},
     "output_type": "display_data"
    },
    {
     "name": "stdout",
     "output_type": "stream",
     "text": [
      "prev for right-wing politics in history is 0.14157973174366617\n",
      "In category sports\n"
     ]
    },
    {
     "data": {
      "text/html": [],
      "text/plain": [
       "<IPython.core.display.HTML object>"
      ]
     },
     "metadata": {},
     "output_type": "display_data"
    },
    {
     "name": "stdout",
     "output_type": "stream",
     "text": [
      "prev for right-wing politics in sports is 0.29314420803782504\n",
      "In category government\n"
     ]
    },
    {
     "data": {
      "text/html": [],
      "text/plain": [
       "<IPython.core.display.HTML object>"
      ]
     },
     "metadata": {},
     "output_type": "display_data"
    },
    {
     "name": "stdout",
     "output_type": "stream",
     "text": [
      "prev for right-wing politics in government is 0.22950819672131148\n",
      "In category comedy\n"
     ]
    },
    {
     "data": {
      "text/html": [],
      "text/plain": [
       "<IPython.core.display.HTML object>"
      ]
     },
     "metadata": {},
     "output_type": "display_data"
    },
    {
     "name": "stdout",
     "output_type": "stream",
     "text": [
      "prev for right-wing politics in comedy is 0.5033942558746737\n",
      "In category politics\n"
     ]
    },
    {
     "data": {
      "text/html": [],
      "text/plain": [
       "<IPython.core.display.HTML object>"
      ]
     },
     "metadata": {},
     "output_type": "display_data"
    },
    {
     "name": "stdout",
     "output_type": "stream",
     "text": [
      "prev for right-wing politics in politics is 0.3192488262910798\n",
      "In category arts\n"
     ]
    },
    {
     "data": {
      "text/html": [],
      "text/plain": [
       "<IPython.core.display.HTML object>"
      ]
     },
     "metadata": {},
     "output_type": "display_data"
    },
    {
     "name": "stdout",
     "output_type": "stream",
     "text": [
      "prev for right-wing politics in arts is 0.18019480519480519\n",
      "In category technology\n"
     ]
    },
    {
     "data": {
      "text/html": [],
      "text/plain": [
       "<IPython.core.display.HTML object>"
      ]
     },
     "metadata": {},
     "output_type": "display_data"
    },
    {
     "name": "stdout",
     "output_type": "stream",
     "text": [
      "prev for right-wing politics in technology is 0.09032258064516129\n",
      "In category business\n"
     ]
    },
    {
     "data": {
      "text/html": [],
      "text/plain": [
       "<IPython.core.display.HTML object>"
      ]
     },
     "metadata": {},
     "output_type": "display_data"
    },
    {
     "name": "stdout",
     "output_type": "stream",
     "text": [
      "prev for right-wing politics in business is 0.21621621621621623\n"
     ]
    }
   ],
   "source": [
    "preds = []\n",
    "for cat in categories_dict:\n",
    "    print(\"In category\", cat)\n",
    "    txt = categories_dict[cat]\n",
    "    tokenized_texts = tokenizer(txt, max_length=256, padding=\"max_length\", truncation=True)\n",
    "    tokenized_texts_dataset = Dataset.from_dict(tokenized_texts)\n",
    "    trainer = Trainer(model=model)\n",
    "    predictions = trainer.predict(tokenized_texts_dataset)\n",
    "    probs = softmax(predictions.predictions, axis=1)[:, 1]\n",
    "    labels = []\n",
    "\n",
    "    for prob in probs:\n",
    "        if prob > 0.60:\n",
    "            labels.append(1)\n",
    "        else:\n",
    "            labels.append(0)\n",
    "\n",
    "    prev_right = sum(labels)/len(labels)\n",
    "    print(f\"prev for right-wing politics in {cat} is {prev_right}\")\n",
    "    preds.append((cat, prev_right))\n"
   ]
  },
  {
   "cell_type": "code",
   "execution_count": 26,
   "id": "3db2eabd",
   "metadata": {},
   "outputs": [
    {
     "name": "stderr",
     "output_type": "stream",
     "text": [
      "<ipython-input-26-c2782bbb91af>:22: FutureWarning: \n",
      "\n",
      "Passing `palette` without assigning `hue` is deprecated and will be removed in v0.14.0. Assign the `y` variable to `hue` and set `legend=False` for the same effect.\n",
      "\n",
      "  bar_plot = sns.barplot(\n"
     ]
    },
    {
     "data": {
      "image/png": "[encoded data removed]",
      "text/plain": [
       "<Figure size 720x576 with 1 Axes>"
      ]
     },
     "metadata": {},
     "output_type": "display_data"
    }
   ],
   "source": [
    "import seaborn as sns\n",
    "import matplotlib.pyplot as plt\n",
    "\n",
    "data = {\n",
    "    'Category': [\"news\", \"education\", \"history\", \"sports\", \"government\"\n",
    "                , 'comedy', 'politics', 'arts', 'technology', 'business'],\n",
    "    'Prevalence': [0.22546523530801332, 0.11171450737005431, 0.14157973174366617, \n",
    "                   0.29314420803782504,0.22950819672131148, 0.5033942558746737, \n",
    "                   0.3192488262910798, 0.18019480519480519, 0.09032258064516129,\n",
    "                  0.21621621621621623]\n",
    "}\n",
    "\n",
    "df = pd.DataFrame(data)\n",
    "\n",
    "df = df.sort_values(by='Prevalence', ascending=False)\n",
    "\n",
    "sns.set(style=\"whitegrid\")\n",
    "\n",
    "colors = sns.color_palette(\"husl\", len(df))\n",
    "\n",
    "plt.figure(figsize=(10, 8))\n",
    "bar_plot = sns.barplot(\n",
    "    x=\"Prevalence\", y=\"Category\", \n",
    "    data=df, \n",
    "    palette=colors,  \n",
    ")\n",
    "\n",
    "bar_plot.set_xlim(0, 0.55)\n",
    "\n",
    "bar_plot.set_xticks([i/20 for i in range(12)])  # This creates 9 slots (0.00, 0.05, ..., 0.45)\n",
    "\n",
    "plt.xlabel('Prevalence')\n",
    "plt.ylabel('Category')\n",
    "plt.title('Prevalence of Right Wing Politics in Different Categories')\n",
    "\n",
    "plt.savefig('prevalence_right_wing_in_diff_cat.png')\n",
    "plt.show()"
   ]
  },
  {
   "cell_type": "markdown",
   "id": "fe42ca43",
   "metadata": {},
   "source": [
    "## If set threshold to 0.65"
   ]
  },
  {
   "cell_type": "code",
   "execution_count": 24,
   "id": "7f31d60b",
   "metadata": {},
   "outputs": [
    {
     "name": "stdout",
     "output_type": "stream",
     "text": [
      "In category news\n"
     ]
    },
    {
     "data": {
      "text/html": [],
      "text/plain": [
       "<IPython.core.display.HTML object>"
      ]
     },
     "metadata": {},
     "output_type": "display_data"
    },
    {
     "name": "stdout",
     "output_type": "stream",
     "text": [
      "prev for right-wing politics in news is 0.061961381313595285\n",
      "In category education\n"
     ]
    },
    {
     "data": {
      "text/html": [],
      "text/plain": [
       "<IPython.core.display.HTML object>"
      ]
     },
     "metadata": {},
     "output_type": "display_data"
    },
    {
     "name": "stdout",
     "output_type": "stream",
     "text": [
      "prev for right-wing politics in education is 0.019394879751745538\n",
      "In category history\n"
     ]
    },
    {
     "data": {
      "text/html": [],
      "text/plain": [
       "<IPython.core.display.HTML object>"
      ]
     },
     "metadata": {},
     "output_type": "display_data"
    },
    {
     "name": "stdout",
     "output_type": "stream",
     "text": [
      "prev for right-wing politics in history is 0.040238450074515646\n",
      "In category sports\n"
     ]
    },
    {
     "data": {
      "text/html": [],
      "text/plain": [
       "<IPython.core.display.HTML object>"
      ]
     },
     "metadata": {},
     "output_type": "display_data"
    },
    {
     "name": "stdout",
     "output_type": "stream",
     "text": [
      "prev for right-wing politics in sports is 0.03309692671394799\n",
      "In category government\n"
     ]
    },
    {
     "data": {
      "text/html": [],
      "text/plain": [
       "<IPython.core.display.HTML object>"
      ]
     },
     "metadata": {},
     "output_type": "display_data"
    },
    {
     "name": "stdout",
     "output_type": "stream",
     "text": [
      "prev for right-wing politics in government is 0.06687483736664064\n",
      "In category comedy\n"
     ]
    },
    {
     "data": {
      "text/html": [],
      "text/plain": [
       "<IPython.core.display.HTML object>"
      ]
     },
     "metadata": {},
     "output_type": "display_data"
    },
    {
     "name": "stdout",
     "output_type": "stream",
     "text": [
      "prev for right-wing politics in comedy is 0.16605744125326372\n",
      "In category politics\n"
     ]
    },
    {
     "data": {
      "text/html": [],
      "text/plain": [
       "<IPython.core.display.HTML object>"
      ]
     },
     "metadata": {},
     "output_type": "display_data"
    },
    {
     "name": "stdout",
     "output_type": "stream",
     "text": [
      "prev for right-wing politics in politics is 0.0892018779342723\n",
      "In category arts\n"
     ]
    },
    {
     "data": {
      "text/html": [],
      "text/plain": [
       "<IPython.core.display.HTML object>"
      ]
     },
     "metadata": {},
     "output_type": "display_data"
    },
    {
     "name": "stdout",
     "output_type": "stream",
     "text": [
      "prev for right-wing politics in arts is 0.030844155844155844\n",
      "In category technology\n"
     ]
    },
    {
     "data": {
      "text/html": [],
      "text/plain": [
       "<IPython.core.display.HTML object>"
      ]
     },
     "metadata": {},
     "output_type": "display_data"
    },
    {
     "name": "stdout",
     "output_type": "stream",
     "text": [
      "prev for right-wing politics in technology is 0.012903225806451613\n",
      "In category business\n"
     ]
    },
    {
     "data": {
      "text/html": [],
      "text/plain": [
       "<IPython.core.display.HTML object>"
      ]
     },
     "metadata": {},
     "output_type": "display_data"
    },
    {
     "name": "stdout",
     "output_type": "stream",
     "text": [
      "prev for right-wing politics in business is 0.02702702702702703\n"
     ]
    }
   ],
   "source": [
    "preds = []\n",
    "for cat in categories_dict:\n",
    "    print(\"In category\", cat)\n",
    "    txt = categories_dict[cat]\n",
    "    tokenized_texts = tokenizer(txt, max_length=256, padding=\"max_length\", truncation=True)\n",
    "    tokenized_texts_dataset = Dataset.from_dict(tokenized_texts)\n",
    "    trainer = Trainer(model=model)\n",
    "    predictions = trainer.predict(tokenized_texts_dataset)\n",
    "    probs = softmax(predictions.predictions, axis=1)[:, 1]\n",
    "    labels = []\n",
    "\n",
    "    for prob in probs:\n",
    "        if prob > 0.65:\n",
    "            labels.append(1)\n",
    "        else:\n",
    "            labels.append(0)\n",
    "\n",
    "    prev_right = sum(labels)/len(labels)\n",
    "    print(f\"prev for right-wing politics in {cat} is {prev_right}\")\n",
    "    preds.append((cat, prev_right))\n"
   ]
  },
  {
   "cell_type": "code",
   "execution_count": null,
   "id": "38719196",
   "metadata": {},
   "outputs": [],
   "source": []
  }
 ],
 "metadata": {
  "kernelspec": {
   "display_name": "Python 3 (ipykernel)",
   "language": "python",
   "name": "python3"
  },
  "language_info": {
   "codemirror_mode": {
    "name": "ipython",
    "version": 3
   },
   "file_extension": ".py",
   "mimetype": "text/x-python",
   "name": "python",
   "nbconvert_exporter": "python",
   "pygments_lexer": "ipython3",
   "version": "3.9.12"
  }
 },
 "nbformat": 4,
 "nbformat_minor": 5
}
