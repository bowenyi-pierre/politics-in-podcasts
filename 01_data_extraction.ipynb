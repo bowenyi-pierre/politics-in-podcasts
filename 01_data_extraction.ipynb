{
 "cells": [
  {
   "cell_type": "code",
   "execution_count": 4,
   "id": "9a1f1249",
   "metadata": {},
   "outputs": [],
   "source": [
    "import os\n",
    "os.environ[\"CUDA_DEVICE_ORDER\"]=\"PCI_BUS_ID\" \n",
    "device = 2\n",
    "os.environ[\"CUDA_VISIBLE_DEVICES\"]= str(device)\n",
    "import torch \n",
    "import torch.nn as nn\n",
    "device = torch.device(\"cuda:\" + str(device) if torch.cuda.is_available() else \"cpu\")\n",
    "\n",
    "import pandas as pd\n",
    "import time\n",
    "from multiprocessing import Pool\n",
    "import os\n",
    "import re\n",
    "import numpy as np\n",
    "import pycld2 as cld2  # language recognition \n",
    "from sklearn.model_selection import train_test_split\n",
    "from sklearn.metrics import f1_score\n",
    "from collections import Counter\n",
    "# Let Jupyter Notebook show more content under cell\n",
    "pd.set_option('display.max_rows', None)\n",
    "pd.set_option('display.max_columns', None)\n",
    "pd.set_option('display.width', None)\n",
    "pd.set_option('display.max_colwidth', None)"
   ]
  },
  {
   "cell_type": "code",
   "execution_count": 5,
   "id": "a76a55e4-9aa1-4e44-9a8b-e676bfe76759",
   "metadata": {},
   "outputs": [],
   "source": [
    "import pandas as pd"
   ]
  },
  {
   "cell_type": "markdown",
   "id": "a49ecfcd",
   "metadata": {},
   "source": [
    "## 1. Read in the raw unlabeled data"
   ]
  },
  {
   "cell_type": "code",
   "execution_count": 6,
   "id": "d74cf507",
   "metadata": {},
   "outputs": [],
   "source": [
    "df = pd.read_json('/shared/3/projects/benlitterer/podcastData/processed/floydMonth/floydMonthData.jsonl', orient=\"records\", lines=True)"
   ]
  },
  {
   "cell_type": "code",
   "execution_count": 7,
   "id": "c3de1a2c",
   "metadata": {},
   "outputs": [
    {
     "data": {
      "text/html": [
       "<div>\n",
       "<style scoped>\n",
       "    .dataframe tbody tr th:only-of-type {\n",
       "        vertical-align: middle;\n",
       "    }\n",
       "\n",
       "    .dataframe tbody tr th {\n",
       "        vertical-align: top;\n",
       "    }\n",
       "\n",
       "    .dataframe thead th {\n",
       "        text-align: right;\n",
       "    }\n",
       "</style>\n",
       "<table border=\"1\" class=\"dataframe\">\n",
       "  <thead>\n",
       "    <tr style=\"text-align: right;\">\n",
       "      <th></th>\n",
       "      <th>potentialOutPath</th>\n",
       "      <th>transcript</th>\n",
       "      <th>wCount</th>\n",
       "      <th>rssUrl</th>\n",
       "      <th>epTitle</th>\n",
       "      <th>epDescription</th>\n",
       "      <th>duration</th>\n",
       "      <th>pubDate</th>\n",
       "      <th>copyright</th>\n",
       "      <th>itunes:type</th>\n",
       "      <th>itunes:complete</th>\n",
       "      <th>guid</th>\n",
       "      <th>itunes:explicit</th>\n",
       "      <th>enclosure</th>\n",
       "      <th>itunes:image</th>\n",
       "      <th>transDict</th>\n",
       "      <th>id</th>\n",
       "      <th>title</th>\n",
       "      <th>lastUpdate</th>\n",
       "      <th>link</th>\n",
       "      <th>lastHttpStatus</th>\n",
       "      <th>dead</th>\n",
       "      <th>contentType</th>\n",
       "      <th>itunesId</th>\n",
       "      <th>originalUrl</th>\n",
       "      <th>itunesAuthor</th>\n",
       "      <th>itunesOwnerName</th>\n",
       "      <th>explicit</th>\n",
       "      <th>imageUrl</th>\n",
       "      <th>itunesType</th>\n",
       "      <th>generator</th>\n",
       "      <th>newestItemPubdate</th>\n",
       "      <th>language</th>\n",
       "      <th>oldestItemPubdate</th>\n",
       "      <th>episodeCount</th>\n",
       "      <th>popularityScore</th>\n",
       "      <th>priority</th>\n",
       "      <th>createdOn</th>\n",
       "      <th>updateFrequency</th>\n",
       "      <th>chash</th>\n",
       "      <th>host</th>\n",
       "      <th>newestEnclosureUrl</th>\n",
       "      <th>podcastGuid</th>\n",
       "      <th>podDescription</th>\n",
       "      <th>category1</th>\n",
       "      <th>category2</th>\n",
       "      <th>category3</th>\n",
       "      <th>category4</th>\n",
       "      <th>category5</th>\n",
       "      <th>category6</th>\n",
       "      <th>category7</th>\n",
       "      <th>category8</th>\n",
       "      <th>category9</th>\n",
       "      <th>category10</th>\n",
       "      <th>newestEnclosureDuration</th>\n",
       "      <th>oldestItemDatetime</th>\n",
       "      <th>cleanDates</th>\n",
       "      <th>cleanDatesLoc</th>\n",
       "      <th>parsedDuration</th>\n",
       "      <th>hours</th>\n",
       "      <th>transEnts</th>\n",
       "      <th>transStarts</th>\n",
       "      <th>transEnds</th>\n",
       "      <th>transTypes</th>\n",
       "      <th>descEnts</th>\n",
       "      <th>descStarts</th>\n",
       "      <th>descEnds</th>\n",
       "      <th>descTypes</th>\n",
       "      <th>epDescEnts</th>\n",
       "      <th>epDescStarts</th>\n",
       "      <th>epDescEnds</th>\n",
       "      <th>epDescTypes</th>\n",
       "    </tr>\n",
       "  </thead>\n",
       "  <tbody>\n",
       "    <tr>\n",
       "      <th>0</th>\n",
       "      <td>/www.buzzsprout.com/3y/httpswww.buzzsprout.com7830203983942todayisyesterday.mp3MERGED</td>\n",
       "      <td>n Shapiro and this is Sing Out Speak Out. Here I give you the philosophies, ideas and songs I've been working on for many years but until now I've shared just too few of because I've been afraid of you and worse I've been afraid of me. My will to connect with you and share the best of me has grown greater than any fear and that's why I am compelled to Sing Out Speak Out. Well hello everyone and welcome to Sing Out Speak Out episode number 20. I know crazy, it's going fast this crazy year that we are having 2020. I know for a lot of people the hard lockdown and the restrictions due to COVID-19 are still in full force and in Australia we are very lucky that we've managed to squash that curve for now due I think in part because we have a smaller population and we had advanced warning of what was happening in other countries so I think that held us in good stead but we're not over it yet of course and we're not gloating in any way whatsoever. But I know it can be tough when you're stuck in the same situation even if you might still have a job but you're working from home and one day you're homeschooling the next day you're doing your job at home and next day it's the weekend but it doesn't really feel like the weekend because you can't go anywhere. Every day is a bit the same. It's like Groundhog Day basically. So as I'm introducing songs to the Kiss Tone album Way to Nowhere which I made with my great friends Mike Haveername and Lee Walker. I'm going to skip to track number four because it's called Today is Yesterday. I'm not going to say too much about the song I'll let the song do the talking but it was a lot of fun to record even though the message itself is kind of serious. All the horns and the strings you hear are played by real musicians all of those layered vocals we did together and just vocal on top of vocal and a lot of work went into this song it was a heap of fun. It's one of my favourite bass parts that I've ever recorded and thanks to our producer Lindsey Rhimes who was there for every note guiding us getting the best out of us when we recorded this song. I hope you enjoy it. Without further adieu this is track four from our album Kiss Tone album Way to Nowhere. The song is called Today is Yesterday. I hope you have a great week. I'll be back next week with another episode of Sing Out Speak Out. [Music] [Music] [Music] [Music] [Music] [Music] [Music] [Music] [Music] [Music] [Music] [Music] [Music] [Music] [Music] [Music] [Music] [Music] [Music] [Music] [Music] [Music] [Music] [Music] [Music] [Music] [Music] [Music] You'll expend the restore Jump slower on the same reflection If you're never gonna change direction Today is yesterday over, over again This we wanted play over, in, in the rest Got to turn your crazy world around So that I don't own your way to nowhere now Today is yesterday Press room on and press the line Today is yesterday You've got to turn your crazy world around So that I don't own your way So that I don't own your way You've got to turn your crazy world around So that I don't own your way Today is yesterday You've got to turn your crazy world around So that I don't own your way to nowhere now Got to turn your crazy world around So that I don't own your way to nowhere now So that I don't own your way to nowhere So that I don't own your way to nowhere [Music] If you like the song, it's available at all the places you usually can download, stream, buy or otherwise share music Thanks for being here today, whether you are watching on my YouTube channel or listening to the podcast I'd love for you to do any of the following things If you like something out of the show then please subscribe to it, like it, share it with someone you think might get value out of it Leave a comment or write a review Any of these things can help me grow the show and make it even better I'll be back next week with another episode and I can't wait to share more with you then [Music] (music)</td>\n",
       "      <td>766</td>\n",
       "      <td>https://feeds.buzzsprout.com/783020.rss</td>\n",
       "      <td>Today Is Yesterday</td>\n",
       "      <td>&lt;p&gt;Simon introduces track 4, of the newly released  KisTone album,  &amp;apos;Today is Yesterday&amp;apos;.&lt;/p&gt;</td>\n",
       "      <td>416</td>\n",
       "      <td>Sun, 31 May 2020 21:00:00 +1000</td>\n",
       "      <td>None</td>\n",
       "      <td>None</td>\n",
       "      <td>NaN</td>\n",
       "      <td>Buzzsprout-3983942</td>\n",
       "      <td>false</td>\n",
       "      <td>https://www.buzzsprout.com/783020/3983942-today-is-yesterday.mp3</td>\n",
       "      <td>None</td>\n",
       "      <td>{}</td>\n",
       "      <td>105699</td>\n",
       "      <td>SingOut SpeakOut</td>\n",
       "      <td>1607561074</td>\n",
       "      <td>http://simonshapiromusic.com</td>\n",
       "      <td>200</td>\n",
       "      <td>0</td>\n",
       "      <td>text/xml; charset=utf-8</td>\n",
       "      <td>1.493623e+09</td>\n",
       "      <td>https://feeds.buzzsprout.com/783020.rss</td>\n",
       "      <td>Simon Shapiro</td>\n",
       "      <td>Simon Shapiro</td>\n",
       "      <td>0</td>\n",
       "      <td>https://storage.buzzsprout.com/variants/46sq6lamo4aidi7rsw7i7wewqimv/f6fd9b4ca4e468e7e11c8350463c894b252ee834d352e0a8d889b97ac83aedef?.jpg</td>\n",
       "      <td>episodic</td>\n",
       "      <td>None</td>\n",
       "      <td>1603335600</td>\n",
       "      <td>en-au</td>\n",
       "      <td>1578110400</td>\n",
       "      <td>39</td>\n",
       "      <td>0</td>\n",
       "      <td>-1</td>\n",
       "      <td>1597201071</td>\n",
       "      <td>9</td>\n",
       "      <td>7fa7e75192d83aa011daa57887b5091f</td>\n",
       "      <td>buzzsprout.com</td>\n",
       "      <td>https://www.buzzsprout.com/783020/6008311-live-at-mandurah.mp3?blob_id=24855661</td>\n",
       "      <td>dbf3c39e-c4ab-5335-a7d9-e472ab6511d8</td>\n",
       "      <td>Award winning Australian singer-songwriter Simon Shapiro delivers his songs, writing and philosophy in a unique combination of idea sharing, including conversation, live performance and recorded music.</td>\n",
       "      <td>music</td>\n",
       "      <td>society</td>\n",
       "      <td>culture</td>\n",
       "      <td>philosophy</td>\n",
       "      <td>education</td>\n",
       "      <td>self improvement</td>\n",
       "      <td>None</td>\n",
       "      <td>None</td>\n",
       "      <td>NaN</td>\n",
       "      <td>NaN</td>\n",
       "      <td>0.0</td>\n",
       "      <td>2020-01-04 04:00:00</td>\n",
       "      <td>2020-05-31 21:00:00+10:00</td>\n",
       "      <td>2020-05-31 11:00:00+00:00</td>\n",
       "      <td>416.0</td>\n",
       "      <td>0.115556</td>\n",
       "      <td>[Simon Shapiro, Sing Out Speak Out, many years, Sing Out Speak Out, Sing Out Speak Out, 20, this crazy year, 2020, Australia, the next day, next day, the weekend, the weekend, Every day, Groundhog Day, Way to Nowhere, Mike Haveername, Lee Walker, four, Today, Yesterday, Lindsey Rhimes, four, Kiss Tone album Way to Nowhere, Today, Yesterday, a great week, next week, Sing Out Speak Out, Today, yesterday, Today, yesterday, Today, yesterday, Today, yesterday, today, YouTube, next week]</td>\n",
       "      <td>[4, 30, 125, 362, 417, 451, 485, 520, 639, 1125, 1172, 1186, 1230, 1273, 1312, 1388, 1438, 1458, 1504, 1529, 1538, 2002, 2169, 2189, 2240, 2249, 2276, 2303, 2337, 2681, 2690, 2839, 2848, 2891, 2900, 3083, 3092, 3497, 3535, 3881]</td>\n",
       "      <td>[17, 48, 135, 380, 435, 453, 500, 524, 648, 1137, 1180, 1197, 1241, 1282, 1325, 1402, 1453, 1468, 1508, 1534, 1547, 2016, 2173, 2219, 2245, 2258, 2288, 2312, 2355, 2686, 2699, 2844, 2857, 2896, 2909, 3088, 3101, 3502, 3542, 3890]</td>\n",
       "      <td>[PERSON, WORK_OF_ART, DATE, WORK_OF_ART, WORK_OF_ART, CARDINAL, DATE, DATE, GPE, DATE, DATE, DATE, DATE, DATE, EVENT, WORK_OF_ART, PERSON, PERSON, CARDINAL, WORK_OF_ART, DATE, PERSON, CARDINAL, WORK_OF_ART, DATE, DATE, DATE, DATE, WORK_OF_ART, DATE, DATE, DATE, DATE, DATE, DATE, DATE, DATE, DATE, ORG, DATE]</td>\n",
       "      <td>[Australian, Simon Shapiro]</td>\n",
       "      <td>[14, 43]</td>\n",
       "      <td>[24, 56]</td>\n",
       "      <td>[NORP, PERSON]</td>\n",
       "      <td>[Simon, 4, KisTone, Yesterday&amp;apos;.&lt;/p]</td>\n",
       "      <td>[3, 26, 52, 83]</td>\n",
       "      <td>[8, 27, 59, 102]</td>\n",
       "      <td>[PERSON, CARDINAL, FAC, PERSON]</td>\n",
       "    </tr>\n",
       "  </tbody>\n",
       "</table>\n",
       "</div>"
      ],
      "text/plain": [
       "                                                                        potentialOutPath  \\\n",
       "0  /www.buzzsprout.com/3y/httpswww.buzzsprout.com7830203983942todayisyesterday.mp3MERGED   \n",
       "\n",
       "                                                                                                                                                                                                                                                                                                                                                                                                                                                                                                                                                                                                                                                                                                                                                                                                                                                                                                                                                                                                                                                                                                                                                                                                                                                                                                                                                                                                                                                                                                                                                                                                                                                                                                                                                                                                                                                                                                                                                                                                                                                                                                                                                                                                                                                                                                                                                                                                                                                                                                                                                                                                                                                                                                                                                                                                                                                                                                                                                                                                                                                                                                                                                                                                                                                                                                                                                                                                                                                                                                                                                                                                                                                                                                                                                                                                                                                                                                                                                                                                                                                                                                                     transcript  \\\n",
       "0  n Shapiro and this is Sing Out Speak Out. Here I give you the philosophies, ideas and songs I've been working on for many years but until now I've shared just too few of because I've been afraid of you and worse I've been afraid of me. My will to connect with you and share the best of me has grown greater than any fear and that's why I am compelled to Sing Out Speak Out. Well hello everyone and welcome to Sing Out Speak Out episode number 20. I know crazy, it's going fast this crazy year that we are having 2020. I know for a lot of people the hard lockdown and the restrictions due to COVID-19 are still in full force and in Australia we are very lucky that we've managed to squash that curve for now due I think in part because we have a smaller population and we had advanced warning of what was happening in other countries so I think that held us in good stead but we're not over it yet of course and we're not gloating in any way whatsoever. But I know it can be tough when you're stuck in the same situation even if you might still have a job but you're working from home and one day you're homeschooling the next day you're doing your job at home and next day it's the weekend but it doesn't really feel like the weekend because you can't go anywhere. Every day is a bit the same. It's like Groundhog Day basically. So as I'm introducing songs to the Kiss Tone album Way to Nowhere which I made with my great friends Mike Haveername and Lee Walker. I'm going to skip to track number four because it's called Today is Yesterday. I'm not going to say too much about the song I'll let the song do the talking but it was a lot of fun to record even though the message itself is kind of serious. All the horns and the strings you hear are played by real musicians all of those layered vocals we did together and just vocal on top of vocal and a lot of work went into this song it was a heap of fun. It's one of my favourite bass parts that I've ever recorded and thanks to our producer Lindsey Rhimes who was there for every note guiding us getting the best out of us when we recorded this song. I hope you enjoy it. Without further adieu this is track four from our album Kiss Tone album Way to Nowhere. The song is called Today is Yesterday. I hope you have a great week. I'll be back next week with another episode of Sing Out Speak Out. [Music] [Music] [Music] [Music] [Music] [Music] [Music] [Music] [Music] [Music] [Music] [Music] [Music] [Music] [Music] [Music] [Music] [Music] [Music] [Music] [Music] [Music] [Music] [Music] [Music] [Music] [Music] [Music] You'll expend the restore Jump slower on the same reflection If you're never gonna change direction Today is yesterday over, over again This we wanted play over, in, in the rest Got to turn your crazy world around So that I don't own your way to nowhere now Today is yesterday Press room on and press the line Today is yesterday You've got to turn your crazy world around So that I don't own your way So that I don't own your way You've got to turn your crazy world around So that I don't own your way Today is yesterday You've got to turn your crazy world around So that I don't own your way to nowhere now Got to turn your crazy world around So that I don't own your way to nowhere now So that I don't own your way to nowhere So that I don't own your way to nowhere [Music] If you like the song, it's available at all the places you usually can download, stream, buy or otherwise share music Thanks for being here today, whether you are watching on my YouTube channel or listening to the podcast I'd love for you to do any of the following things If you like something out of the show then please subscribe to it, like it, share it with someone you think might get value out of it Leave a comment or write a review Any of these things can help me grow the show and make it even better I'll be back next week with another episode and I can't wait to share more with you then [Music] (music)   \n",
       "\n",
       "   wCount                                   rssUrl             epTitle  \\\n",
       "0     766  https://feeds.buzzsprout.com/783020.rss  Today Is Yesterday   \n",
       "\n",
       "                                                                                             epDescription  \\\n",
       "0  <p>Simon introduces track 4, of the newly released  KisTone album,  &apos;Today is Yesterday&apos;.</p>   \n",
       "\n",
       "  duration                          pubDate copyright itunes:type  \\\n",
       "0      416  Sun, 31 May 2020 21:00:00 +1000      None        None   \n",
       "\n",
       "   itunes:complete                guid itunes:explicit  \\\n",
       "0              NaN  Buzzsprout-3983942           false   \n",
       "\n",
       "                                                          enclosure  \\\n",
       "0  https://www.buzzsprout.com/783020/3983942-today-is-yesterday.mp3   \n",
       "\n",
       "  itunes:image transDict      id             title  lastUpdate  \\\n",
       "0         None        {}  105699  SingOut SpeakOut  1607561074   \n",
       "\n",
       "                           link  lastHttpStatus  dead  \\\n",
       "0  http://simonshapiromusic.com             200     0   \n",
       "\n",
       "               contentType      itunesId  \\\n",
       "0  text/xml; charset=utf-8  1.493623e+09   \n",
       "\n",
       "                               originalUrl   itunesAuthor itunesOwnerName  \\\n",
       "0  https://feeds.buzzsprout.com/783020.rss  Simon Shapiro   Simon Shapiro   \n",
       "\n",
       "   explicit  \\\n",
       "0         0   \n",
       "\n",
       "                                                                                                                                     imageUrl  \\\n",
       "0  https://storage.buzzsprout.com/variants/46sq6lamo4aidi7rsw7i7wewqimv/f6fd9b4ca4e468e7e11c8350463c894b252ee834d352e0a8d889b97ac83aedef?.jpg   \n",
       "\n",
       "  itunesType generator  newestItemPubdate language  oldestItemPubdate  \\\n",
       "0   episodic      None         1603335600    en-au         1578110400   \n",
       "\n",
       "   episodeCount  popularityScore  priority   createdOn  updateFrequency  \\\n",
       "0            39                0        -1  1597201071                9   \n",
       "\n",
       "                              chash            host  \\\n",
       "0  7fa7e75192d83aa011daa57887b5091f  buzzsprout.com   \n",
       "\n",
       "                                                                newestEnclosureUrl  \\\n",
       "0  https://www.buzzsprout.com/783020/6008311-live-at-mandurah.mp3?blob_id=24855661   \n",
       "\n",
       "                            podcastGuid  \\\n",
       "0  dbf3c39e-c4ab-5335-a7d9-e472ab6511d8   \n",
       "\n",
       "                                                                                                                                                                                              podDescription  \\\n",
       "0  Award winning Australian singer-songwriter Simon Shapiro delivers his songs, writing and philosophy in a unique combination of idea sharing, including conversation, live performance and recorded music.   \n",
       "\n",
       "  category1 category2 category3   category4  category5         category6  \\\n",
       "0     music   society   culture  philosophy  education  self improvement   \n",
       "\n",
       "  category7 category8  category9  category10  newestEnclosureDuration  \\\n",
       "0      None      None        NaN         NaN                      0.0   \n",
       "\n",
       "    oldestItemDatetime                 cleanDates              cleanDatesLoc  \\\n",
       "0  2020-01-04 04:00:00  2020-05-31 21:00:00+10:00  2020-05-31 11:00:00+00:00   \n",
       "\n",
       "   parsedDuration     hours  \\\n",
       "0           416.0  0.115556   \n",
       "\n",
       "                                                                                                                                                                                                                                                                                                                                                                                                                                                                                                transEnts  \\\n",
       "0  [Simon Shapiro, Sing Out Speak Out, many years, Sing Out Speak Out, Sing Out Speak Out, 20, this crazy year, 2020, Australia, the next day, next day, the weekend, the weekend, Every day, Groundhog Day, Way to Nowhere, Mike Haveername, Lee Walker, four, Today, Yesterday, Lindsey Rhimes, four, Kiss Tone album Way to Nowhere, Today, Yesterday, a great week, next week, Sing Out Speak Out, Today, yesterday, Today, yesterday, Today, yesterday, Today, yesterday, today, YouTube, next week]   \n",
       "\n",
       "                                                                                                                                                                                                                            transStarts  \\\n",
       "0  [4, 30, 125, 362, 417, 451, 485, 520, 639, 1125, 1172, 1186, 1230, 1273, 1312, 1388, 1438, 1458, 1504, 1529, 1538, 2002, 2169, 2189, 2240, 2249, 2276, 2303, 2337, 2681, 2690, 2839, 2848, 2891, 2900, 3083, 3092, 3497, 3535, 3881]   \n",
       "\n",
       "                                                                                                                                                                                                                               transEnds  \\\n",
       "0  [17, 48, 135, 380, 435, 453, 500, 524, 648, 1137, 1180, 1197, 1241, 1282, 1325, 1402, 1453, 1468, 1508, 1534, 1547, 2016, 2173, 2219, 2245, 2258, 2288, 2312, 2355, 2686, 2699, 2844, 2857, 2896, 2909, 3088, 3101, 3502, 3542, 3890]   \n",
       "\n",
       "                                                                                                                                                                                                                                                                                                             transTypes  \\\n",
       "0  [PERSON, WORK_OF_ART, DATE, WORK_OF_ART, WORK_OF_ART, CARDINAL, DATE, DATE, GPE, DATE, DATE, DATE, DATE, DATE, EVENT, WORK_OF_ART, PERSON, PERSON, CARDINAL, WORK_OF_ART, DATE, PERSON, CARDINAL, WORK_OF_ART, DATE, DATE, DATE, DATE, WORK_OF_ART, DATE, DATE, DATE, DATE, DATE, DATE, DATE, DATE, DATE, ORG, DATE]   \n",
       "\n",
       "                      descEnts descStarts  descEnds       descTypes  \\\n",
       "0  [Australian, Simon Shapiro]   [14, 43]  [24, 56]  [NORP, PERSON]   \n",
       "\n",
       "                                 epDescEnts     epDescStarts  \\\n",
       "0  [Simon, 4, KisTone, Yesterday&apos;.</p]  [3, 26, 52, 83]   \n",
       "\n",
       "         epDescEnds                      epDescTypes  \n",
       "0  [8, 27, 59, 102]  [PERSON, CARDINAL, FAC, PERSON]  "
      ]
     },
     "execution_count": 7,
     "metadata": {},
     "output_type": "execute_result"
    }
   ],
   "source": [
    "df.head(1)"
   ]
  },
  {
   "cell_type": "code",
   "execution_count": 5,
   "id": "e525bcfa",
   "metadata": {},
   "outputs": [],
   "source": [
    "soted_dates = sorted(df['pubDate'])"
   ]
  },
  {
   "cell_type": "code",
   "execution_count": 17,
   "id": "35f60aab",
   "metadata": {},
   "outputs": [
    {
     "data": {
      "text/plain": [
       "Index(['potentialOutPath', 'transcript', 'wCount', 'rssUrl', 'epTitle',\n",
       "       'epDescription', 'duration', 'pubDate', 'copyright', 'itunes:type',\n",
       "       'itunes:complete', 'guid', 'itunes:explicit', 'enclosure',\n",
       "       'itunes:image', 'transDict', 'id', 'title', 'lastUpdate', 'link',\n",
       "       'lastHttpStatus', 'dead', 'contentType', 'itunesId', 'originalUrl',\n",
       "       'itunesAuthor', 'itunesOwnerName', 'explicit', 'imageUrl', 'itunesType',\n",
       "       'generator', 'newestItemPubdate', 'language', 'oldestItemPubdate',\n",
       "       'episodeCount', 'popularityScore', 'priority', 'createdOn',\n",
       "       'updateFrequency', 'chash', 'host', 'newestEnclosureUrl', 'podcastGuid',\n",
       "       'podDescription', 'category1', 'category2', 'category3', 'category4',\n",
       "       'category5', 'category6', 'category7', 'category8', 'category9',\n",
       "       'category10', 'newestEnclosureDuration', 'oldestItemDatetime',\n",
       "       'cleanDates', 'cleanDatesLoc', 'parsedDuration', 'hours', 'transEnts',\n",
       "       'transStarts', 'transEnds', 'transTypes', 'descEnts', 'descStarts',\n",
       "       'descEnds', 'descTypes', 'epDescEnts', 'epDescStarts', 'epDescEnds',\n",
       "       'epDescTypes'],\n",
       "      dtype='object')"
      ]
     },
     "execution_count": 17,
     "metadata": {},
     "output_type": "execute_result"
    }
   ],
   "source": [
    "df.columns"
   ]
  },
  {
   "cell_type": "code",
   "execution_count": null,
   "id": "e7045ee9",
   "metadata": {},
   "outputs": [],
   "source": [
    "df.shape"
   ]
  },
  {
   "cell_type": "markdown",
   "id": "62fb1536",
   "metadata": {},
   "source": [
    "## 2. Labeling strategy: \n",
    "### - A podcast is \"politics\" if it only has one single category assigned, and that being \"politics\". If none of its 10 category has \"politics\", it's non-politics\n",
    "### - As we rely on weakly labeled data, this can keep our labeled data as clean as possible\n"
   ]
  },
  {
   "cell_type": "code",
   "execution_count": 25,
   "id": "1c559096",
   "metadata": {},
   "outputs": [],
   "source": [
    "def label_pol(row):\n",
    "    if str(row['category1']).lower() == 'politics' and all(pd.isnull(row[col]) for col in ['category2', 'category3', 'category4','category5','category6','category7','category8','category9', 'category10']):\n",
    "        return 1\n",
    "    elif not any('politics' in str(category).lower() for category in row[['category1', 'category2', 'category3', 'category4', 'category5', 'category6', 'category7', 'category8', 'category9', 'category10']]):\n",
    "        return 0\n",
    "    else:\n",
    "        return 2"
   ]
  },
  {
   "cell_type": "code",
   "execution_count": null,
   "id": "ef2553b5",
   "metadata": {},
   "outputs": [],
   "source": [
    "pd.options.mode.chained_assignment = None\n",
    "df['is_politics'] = df.apply(label_pol, axis=1)"
   ]
  },
  {
   "cell_type": "code",
   "execution_count": null,
   "id": "9b95d541",
   "metadata": {},
   "outputs": [],
   "source": [
    "df[df[\"is_politics\"]==0].shape"
   ]
  },
  {
   "cell_type": "code",
   "execution_count": null,
   "id": "82a40088",
   "metadata": {},
   "outputs": [],
   "source": [
    "df[df[\"is_politics\"]==1].shape"
   ]
  },
  {
   "cell_type": "markdown",
   "id": "ddf2e01f",
   "metadata": {},
   "source": [
    "## The first method yielded too limited positive samples. Thus, we label a podcast as politics as long as the top 1 category is \"politics\""
   ]
  },
  {
   "cell_type": "code",
   "execution_count": 8,
   "id": "d32fddcc",
   "metadata": {},
   "outputs": [],
   "source": [
    "def label_pol_new(row):\n",
    "    if str(row['category1']).lower() == 'politics':\n",
    "        return 1\n",
    "    elif not any('politics' in str(category).lower() for category in row[['category1', 'category2', 'category3', 'category4', 'category5', 'category6', 'category7', 'category8', 'category9', 'category10']]):\n",
    "        return 0\n",
    "    else:\n",
    "        return 2"
   ]
  },
  {
   "cell_type": "code",
   "execution_count": 9,
   "id": "69af8f9c",
   "metadata": {},
   "outputs": [],
   "source": [
    "pd.options.mode.chained_assignment = None\n",
    "df['is_politics_new'] = df.apply(label_pol_new, axis=1)"
   ]
  },
  {
   "cell_type": "code",
   "execution_count": 13,
   "id": "44a5a43e",
   "metadata": {},
   "outputs": [
    {
     "data": {
      "text/plain": [
       "(22, 74)"
      ]
     },
     "execution_count": 13,
     "metadata": {},
     "output_type": "execute_result"
    }
   ],
   "source": [
    "df[df[\"is_politics_new\"]==1].shape"
   ]
  },
  {
   "cell_type": "markdown",
   "id": "e01e365b",
   "metadata": {},
   "source": [
    "## Also too limited data. Try the third strategy. We label a podcast as politics if its top 3 category includes \"politics\""
   ]
  },
  {
   "cell_type": "code",
   "execution_count": 10,
   "id": "fbfe792c",
   "metadata": {},
   "outputs": [],
   "source": [
    "def label_pol_third(row):\n",
    "    if str(row['category1']).lower() == 'politics' or str(row['category2']).lower() == 'politics' or str(row['category3']).lower() == 'politics':\n",
    "        return 1\n",
    "    elif not any('politics' in str(category).lower() for category in row[['category1', 'category2', 'category3', 'category4', 'category5', 'category6', 'category7', 'category8', 'category9', 'category10']]):\n",
    "        return 0\n",
    "    else:\n",
    "        return 2"
   ]
  },
  {
   "cell_type": "code",
   "execution_count": null,
   "id": "5e433bff",
   "metadata": {},
   "outputs": [],
   "source": [
    "pd.options.mode.chained_assignment = None\n",
    "df['is_politics_top_3'] = df.apply(label_pol_third, axis=1)"
   ]
  },
  {
   "cell_type": "code",
   "execution_count": 12,
   "id": "7a0a6faf",
   "metadata": {},
   "outputs": [
    {
     "data": {
      "text/plain": [
       "Index(['potentialOutPath', 'transcript', 'wCount', 'rssUrl', 'epTitle',\n",
       "       'epDescription', 'duration', 'pubDate', 'copyright', 'itunes:type',\n",
       "       'itunes:complete', 'guid', 'itunes:explicit', 'enclosure',\n",
       "       'itunes:image', 'transDict', 'id', 'title', 'lastUpdate', 'link',\n",
       "       'lastHttpStatus', 'dead', 'contentType', 'itunesId', 'originalUrl',\n",
       "       'itunesAuthor', 'itunesOwnerName', 'explicit', 'imageUrl', 'itunesType',\n",
       "       'generator', 'newestItemPubdate', 'language', 'oldestItemPubdate',\n",
       "       'episodeCount', 'popularityScore', 'priority', 'createdOn',\n",
       "       'updateFrequency', 'chash', 'host', 'newestEnclosureUrl', 'podcastGuid',\n",
       "       'podDescription', 'category1', 'category2', 'category3', 'category4',\n",
       "       'category5', 'category6', 'category7', 'category8', 'category9',\n",
       "       'category10', 'newestEnclosureDuration', 'oldestItemDatetime',\n",
       "       'cleanDates', 'cleanDatesLoc', 'parsedDuration', 'hours', 'transEnts',\n",
       "       'transStarts', 'transEnds', 'transTypes', 'descEnts', 'descStarts',\n",
       "       'descEnds', 'descTypes', 'epDescEnts', 'epDescStarts', 'epDescEnds',\n",
       "       'epDescTypes', 'is_politics_new', 'is_politics_top_3'],\n",
       "      dtype='object')"
      ]
     },
     "execution_count": 12,
     "metadata": {},
     "output_type": "execute_result"
    }
   ],
   "source": [
    "df.columns"
   ]
  },
  {
   "cell_type": "code",
   "execution_count": 14,
   "id": "e0d2df18",
   "metadata": {},
   "outputs": [
    {
     "data": {
      "text/plain": [
       "(7792, 74)"
      ]
     },
     "execution_count": 14,
     "metadata": {},
     "output_type": "execute_result"
    }
   ],
   "source": [
    "df[df[\"is_politics_top_3\"]==1].shape"
   ]
  },
  {
   "cell_type": "markdown",
   "id": "957dfec1",
   "metadata": {},
   "source": [
    "## By using this strategy, we have 7792 transcripts as \"politics\". That's enough data to start with"
   ]
  },
  {
   "cell_type": "code",
   "execution_count": 15,
   "id": "38012166",
   "metadata": {},
   "outputs": [],
   "source": [
    "df_pol = df[df[\"is_politics_top_3\"]==1].copy()"
   ]
  },
  {
   "cell_type": "code",
   "execution_count": 16,
   "id": "83727650",
   "metadata": {},
   "outputs": [],
   "source": [
    "df_pol.to_csv(\"pol_trans.csv\", index=False)"
   ]
  },
  {
   "cell_type": "code",
   "execution_count": null,
   "id": "f004be28",
   "metadata": {},
   "outputs": [],
   "source": []
  }
 ],
 "metadata": {
  "kernelspec": {
   "display_name": "Python 3 (ipykernel)",
   "language": "python",
   "name": "python3"
  },
  "language_info": {
   "codemirror_mode": {
    "name": "ipython",
    "version": 3
   },
   "file_extension": ".py",
   "mimetype": "text/x-python",
   "name": "python",
   "nbconvert_exporter": "python",
   "pygments_lexer": "ipython3",
   "version": "3.9.12"
  },
  "widgets": {
   "application/vnd.jupyter.widget-state+json": {
    "state": {},
    "version_major": 2,
    "version_minor": 0
   }
  }
 },
 "nbformat": 4,
 "nbformat_minor": 5
}
