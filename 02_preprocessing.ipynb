{
 "cells": [
  {
   "cell_type": "markdown",
   "id": "c282bcda",
   "metadata": {},
   "source": [
    "## This notebook will preprocess transcripts such that they are easier to work with downstream models and annotate\n",
    "- Author: Bowen Yi\n"
   ]
  },
  {
   "cell_type": "code",
   "execution_count": 43,
   "id": "9c5242f8",
   "metadata": {},
   "outputs": [],
   "source": [
    "import pandas as pd\n",
    "import re\n",
    "import pycld2 as cld2  # to detect foreign language in transcript\n",
    "import cld3"
   ]
  },
  {
   "cell_type": "code",
   "execution_count": 23,
   "id": "faeaeb07",
   "metadata": {},
   "outputs": [],
   "source": [
    "df = pd.read_csv(\"pol_trans.csv\", usecols = ['transcript','enclosure','potentialOutPath','category1','category2', 'category3', 'category4', 'category5', 'category6', 'category7', 'category8', 'category9', 'category10'])\n"
   ]
  },
  {
   "cell_type": "code",
   "execution_count": 24,
   "id": "4dc49c21",
   "metadata": {},
   "outputs": [],
   "source": [
    "df = df.dropna(subset=['transcript'])\n"
   ]
  },
  {
   "cell_type": "code",
   "execution_count": 25,
   "id": "a56589fc",
   "metadata": {},
   "outputs": [
    {
     "data": {
      "text/plain": [
       "(7813, 13)"
      ]
     },
     "execution_count": 25,
     "metadata": {},
     "output_type": "execute_result"
    }
   ],
   "source": [
    "df.shape\n"
   ]
  },
  {
   "cell_type": "code",
   "execution_count": 26,
   "id": "ed01833e",
   "metadata": {},
   "outputs": [],
   "source": [
    "df = df.dropna(subset=['enclosure'])\n"
   ]
  },
  {
   "cell_type": "code",
   "execution_count": 27,
   "id": "4c8e21b9",
   "metadata": {},
   "outputs": [
    {
     "data": {
      "text/plain": [
       "(7791, 13)"
      ]
     },
     "execution_count": 27,
     "metadata": {},
     "output_type": "execute_result"
    }
   ],
   "source": [
    "df.shape\n"
   ]
  },
  {
   "cell_type": "code",
   "execution_count": 28,
   "id": "abd5fa59",
   "metadata": {},
   "outputs": [],
   "source": [
    "df = df.sample(frac=1, random_state=1)\n"
   ]
  },
  {
   "cell_type": "code",
   "execution_count": 29,
   "id": "f91c6870",
   "metadata": {},
   "outputs": [],
   "source": [
    "def preprocess_transcript(text, words_to_remove=200, lower_bound_word_count=400):\n",
    "    text = re.sub(r'\\[.*?\\]', '', text)\n",
    "    text = re.sub(r'\\(.*?\\)', '', text)\n",
    "    text = re.sub(r'\\*.*?\\*', '', text)\n",
    "    text = text.replace('#', '')\n",
    "    text = text.encode(\"ascii\", \"ignore\").decode()\n",
    "    \n",
    "    if len(text.split()) <= lower_bound_word_count:\n",
    "        return \"\"\n",
    "    \n",
    "    # This is for chunking transcripts later. We only chunk at the end of a sentence\n",
    "    sentences = re.split(r'(?<=[.!?]) ', text)\n",
    "    sentences = [sentence + ' ' for sentence in sentences]\n",
    "    \n",
    "    # When no sentences are found, or the text doesn't contain proper sentence-ending punctuation, ignore this transcript\n",
    "    if len(sentences) <= 1:\n",
    "        return \"\"\n",
    "    \n",
    "    # Remove the first and last ~200 words from the transcript\n",
    "    start_index = 0\n",
    "    word_count = 0\n",
    "    for i, sentence in enumerate(sentences):\n",
    "        word_count += len(sentence.split())\n",
    "        if word_count >= words_to_remove:\n",
    "            start_index = i\n",
    "            break\n",
    "    \n",
    "    # Remove the last ~200 words from the transcript\n",
    "    end_index = len(sentences) - 1\n",
    "    word_count = 0\n",
    "    for i in range(len(sentences) - 1, -1, -1):\n",
    "        word_count += len(sentences[i].split())\n",
    "        if word_count >= words_to_remove:\n",
    "            end_index = i\n",
    "            break\n",
    "    \n",
    "    if end_index <= start_index or start_index == 0 or end_index == len(sentences) - 1:\n",
    "        return \"\"\n",
    "\n",
    "    filtered_sentences = sentences[start_index + 1:end_index]\n",
    "    return filtered_sentences\n",
    "\n"
   ]
  },
  {
   "cell_type": "code",
   "execution_count": 30,
   "id": "74f32de8",
   "metadata": {},
   "outputs": [],
   "source": [
    "df['processed_text'] = df['transcript'].apply(preprocess_transcript)\n",
    "\n"
   ]
  },
  {
   "cell_type": "markdown",
   "id": "a7157970",
   "metadata": {},
   "source": [
    "# Remove short transcripts\n"
   ]
  },
  {
   "cell_type": "code",
   "execution_count": 38,
   "id": "4cbdd51f",
   "metadata": {},
   "outputs": [],
   "source": [
    "def too_short(text, lower_bound=200):\n",
    "    length = 0\n",
    "    for sentence in text:\n",
    "        length += len(sentence.split())\n",
    "        if length > lower_bound:\n",
    "            return False\n",
    "    return True\n"
   ]
  },
  {
   "cell_type": "code",
   "execution_count": 39,
   "id": "6ba8d1db",
   "metadata": {},
   "outputs": [],
   "source": [
    "df[\"too_short\"] = df[\"processed_text\"].apply(too_short)\n",
    "\n"
   ]
  },
  {
   "cell_type": "code",
   "execution_count": 40,
   "id": "7dc4674e",
   "metadata": {},
   "outputs": [
    {
     "data": {
      "text/plain": [
       "(1506, 15)"
      ]
     },
     "execution_count": 40,
     "metadata": {},
     "output_type": "execute_result"
    }
   ],
   "source": [
    "df[df[\"too_short\"]==True].shape\n"
   ]
  },
  {
   "cell_type": "code",
   "execution_count": 41,
   "id": "c5bea705",
   "metadata": {},
   "outputs": [],
   "source": [
    "df = df[df[\"too_short\"]==False]"
   ]
  },
  {
   "cell_type": "code",
   "execution_count": 42,
   "id": "4f268c01",
   "metadata": {},
   "outputs": [
    {
     "data": {
      "text/plain": [
       "(6285, 15)"
      ]
     },
     "execution_count": 42,
     "metadata": {},
     "output_type": "execute_result"
    }
   ],
   "source": [
    "df.shape"
   ]
  },
  {
   "cell_type": "markdown",
   "id": "95eeeb99",
   "metadata": {},
   "source": [
    "## Remove non-English transcripts"
   ]
  },
  {
   "cell_type": "code",
   "execution_count": 44,
   "id": "c01cfed8",
   "metadata": {},
   "outputs": [],
   "source": [
    "def is_eng(trans):\n",
    "    text = \"\"\n",
    "    for sent in trans:\n",
    "        text += sent\n",
    "    \n",
    "    isReliable, textBytesFound, details, vectors = cld2.detect(text, returnVectors=True)\n",
    "    if details[0][0] == \"ENGLISH\" and details[1][0] == \"Unknown\" and details[2][0] == \"Unknown\":\n",
    "        return True\n",
    "    else:\n",
    "        return False\n",
    "    "
   ]
  },
  {
   "cell_type": "code",
   "execution_count": 45,
   "id": "bf99c3c5",
   "metadata": {},
   "outputs": [],
   "source": [
    "df[\"is_eng\"] = df['processed_text'].apply(is_eng)\n",
    "\n"
   ]
  },
  {
   "cell_type": "code",
   "execution_count": 49,
   "id": "5c90b75a",
   "metadata": {},
   "outputs": [],
   "source": [
    "df = df[df[\"is_eng\"]==1]\n"
   ]
  },
  {
   "cell_type": "code",
   "execution_count": 51,
   "id": "76f22341",
   "metadata": {},
   "outputs": [],
   "source": [
    "df = df.drop(['is_eng', 'transcript','too_short'], axis=1)\n"
   ]
  },
  {
   "cell_type": "code",
   "execution_count": 52,
   "id": "121815af",
   "metadata": {},
   "outputs": [
    {
     "data": {
      "text/plain": [
       "Index(['potentialOutPath', 'enclosure', 'category1', 'category2', 'category3',\n",
       "       'category4', 'category5', 'category6', 'category7', 'category8',\n",
       "       'category9', 'category10', 'processed_text'],\n",
       "      dtype='object')"
      ]
     },
     "execution_count": 52,
     "metadata": {},
     "output_type": "execute_result"
    }
   ],
   "source": [
    "df.columns"
   ]
  },
  {
   "cell_type": "code",
   "execution_count": 53,
   "id": "4264e5b2",
   "metadata": {},
   "outputs": [
    {
     "data": {
      "text/plain": [
       "['First, just absolutely appalled, just reading about what happened in the killing of George Floyd, what happened in terms of how the police interacted with them. ',\n",
       " 'I think I was just appalled. ',\n",
       " \"The other word I'd use is upset because this isn't a new issue. \",\n",
       " 'This has happened for generations, but in our time, in our contemporary time, you could talk about killing of Michael Brown. ',\n",
       " 'You could talk about the killing of Eric Garner. ',\n",
       " \"You can list these names because they've been burned to America's national consciousness as a reminder of the systematic racism that is present, unfortunately, in this country. \",\n",
       " 'Particularly, in our police institutions. ',\n",
       " 'That was my immediate reaction. ',\n",
       " 'Micah, I assume you have watched the video. ',\n",
       " 'Unfortunately, I have. ',\n",
       " \"I think one thing that I've seen a lot and I'm going to pass along this message for anyone who hasn't heard it, don't share this video. \",\n",
       " \"This is an incredibly traumatic thing that's being shared. \",\n",
       " \"Like it's just a viral video on Instagram and other platforms. \",\n",
       " \"There's no need to subject people, especially black people and people of color, to the trauma of seeing a person of color be killed in this way. \",\n",
       " \"That's the message I'm going to pass on. \",\n",
       " \"We don't need to see a video of George Floyd being killed to talk about systematic racism in this country. \",\n",
       " 'What do you think is the biggest mistake that people like you and I have made in this process? ',\n",
       " \"In this process, I would say maybe this isn't a direct answer, but I think the unfortunate mistake is assuming that the biggest mistake was believing that police brutality was the case of, to use a quote I've heard a lot, a few bad apples. \",\n",
       " 'Because especially growing up white in America, you grow up with this idea that the police are, you know, you hear the phrase repeatedly\"\" \"To serve and protect Americans,.\" You know, I\\'ve talked about this in my blog. ',\n",
       " \"I've had, individually, I've had very positive experiences with the police and, you know, that has colored my perception. \",\n",
       " \"And so when people protested, when people started protesting in the immediate aftermath, calling for the arrest of George Floyd's killers, I was hoping, all right, the police will handle this in an appropriate manner. \",\n",
       " \"We'll see protests and we'll see justice. \",\n",
       " \"And what we've seen in the last few days is police shooting tear gas at protesters. \",\n",
       " \"We've seen police firing tear gas and even rubber bullets at protesters and at journalists. \",\n",
       " \"And I think the mistake we've made going into this process is just assuming that the problem was until widespread, that it was just a few bad individuals, you know, we'll get them out of the ranks and then we'll be fixed. \",\n",
       " \"And I would say that isn't the issue. \",\n",
       " 'The issue is in America, the police institution itself has been allowed to perpetuate these fundamentally racist abuses of power. ',\n",
       " 'And I would say that the mistake that we could make coming out of this is to continue to believe that this is just the case of a few bad individuals and that just firing those individuals will solve the problem. ',\n",
       " \"That won't solve the problem. \",\n",
       " 'What we need, in my opinion, is a fundamental restructuring of how we protect this country, how we protect neighborhoods, how we and how we look at and how we structure the police in our society. ',\n",
       " 'Michael, let me ask you, your interactions are the police. ',\n",
       " \"You don't have to share if you don't want to. \",\n",
       " 'Have you ever been pulled over, maybe encountered for something beyond just walking by a police officer? ',\n",
       " 'I have not. ',\n",
       " \"And I would say, you know, the like that, that definitely that impacts my perspective because I have never been in a situation where I have ever had any reason to, to, you know, fear of police officer or just trust a police officer or to question a police officer's actions and, you know, what I've been, what you've seen with protests and how, especially how the police have responded to protests and how the police have acted in the events that have spawned these protests in the killing of George Floyd and the killing of Breonna Taylor and the killing of Tony McDade and so many others is that for too many people, the only interactions they have a police have been interactions that have led them to fear or distrust the police, not only as individuals, but as an institution. \",\n",
       " \"Let's talk about folks that are listening. \",\n",
       " 'We usually have an outline for this. ',\n",
       " \"Mike and I are just trying to have an open conversation about this just like I'm sure you all are at home. \",\n",
       " \"This is going to be too long of a podcast at all, but let's talk about now the protests that we're seeing some turning into riots, stores getting looted. \",\n",
       " 'What do you think about that? ',\n",
       " \"Well, all right, I'm going to, you know, I, I actually talked to someone about this earlier today as a matter of fact, and I'm going to, you know, take a little time to explain what I'm saying. \",\n",
       " 'I was, I was surfing Facebook this morning and I happened to find a new video from the Daily Show host Trevor Noah. ',\n",
       " 'And this was an 18 minute video, but I was, I just woken up and I wanted to hear what he had to say. ',\n",
       " \"And he was talking about the same thing we're talking about. \",\n",
       " 'And in terms of how do we end up at this point today? ',\n",
       " \"And I think the thing that stood out to me most was the discussion of the riots because at this moment in time, you're seeing a lot of people who are saying, you know, this is wrong. \",\n",
       " 'We, this is not how you protest in this country. ',\n",
       " 'This is not how you, how you achieve change. ',\n",
       " \"And you know, it's easy to, it's easy to basically, it's easy to just say like, Oh my goodness, you can't vandalize property. \",\n",
       " \"You can't do stuff like this. \",\n",
       " \"This is, this isn't okay. \",\n",
       " \"And what Trevor Noah talked about was this idea of societies and, you know, by extension, America being a social contract that we all, you know, subscribe to the same rules, the same principles with the expectation that we're all going to do that. \",\n",
       " 'And what he said is, you know, to, especially to people like us, the vandalism looks like people violating that social contract. ',\n",
       " 'But what Trevor Noah then said was, you know, do people of color, African Americans and to other minority groups in the United States? ',\n",
       " 'We as, as white people have been violating that social contract every time a police officer kill someone every time a police officer abuses their power. ',\n",
       " 'Every time, frankly, that systematic racism disenfranchises a personal color from, from society and from this country. ',\n",
       " 'And, you know, like he kind of ended with this rhetorical question of people always asking, well, what is looting a target going to, you know, how is it looting a target going to hell? ',\n",
       " 'And he kind of put, he turned the question on its end. ',\n",
       " 'He said, how is it not going to help? ',\n",
       " 'And you know, that was a real, his statement really, it was a, he, this kind of idea of a social contract really put things in perspective because it really clarifies what people have been saying all along with that, which I agree with even in the case of, even in the case of property damage and such, property can be replaced. ',\n",
       " 'But human lives cannot be replaced. ',\n",
       " \"And so far in this country, and so far in frankly, the responses to protests, we've been treating property as sacros as sacrosanct as, you know, you can't damage property. \",\n",
       " \"That's just beyond the line. \",\n",
       " 'But somehow hurting protesters, killing people, hurting journalists, somehow, somehow human life is cheaper than property. ',\n",
       " \"And that's not okay. \",\n",
       " \"By any, by any means, that's not okay. \",\n",
       " \"Mike, I'm going to open the floor up for you. \",\n",
       " 'You mentioned to me before we got on the air that you wanted to talk about fundamental inequities in our country. ',\n",
       " 'Expand on that. ',\n",
       " \"Well, you know, I think we've been hearing a lot, especially during COVID-19 about how systematic racism has contributed to a vastly disparate death count between African Americans and other groups versus white Americans. \",\n",
       " \"And I think, I think something that we just need to be, we need to be more, we need to recognize as a society, especially why he will need to recognize is that it doesn't matter if you personally are not a racist, because if you're not individually racist, that's great. \",\n",
       " \"You're not a bad person. \",\n",
       " \"That's, you know, it's, I respect the fact that you don't harbor, you know, these prejudices in your heart. \",\n",
       " \"But what I've learned over the few days is it's not enough just to not be a racist, because America's been dealing with the scourge of racism for 400 years since the first slaves are brought to the Virginia colony in Jamestown. \",\n",
       " 'And in that time, racism has unfortunately, has unfortunately permeated every aspect of a society. ',\n",
       " 'And even as if using attitudes begin to change, those beliefs still form the core basis of so many laws, so many institutions, so many social norms. ',\n",
       " \"And in a society where racism permeates the fundamental structures of society, just by default, it's not enough to just not be racist. \",\n",
       " 'You have to be anti-racist. ',\n",
       " 'You have to be committed to educating yourself, to getting involved in activism, to lobbying elected officials, to, you know, to also pursue anti-racist policies, to dismantle systems of inequity. ',\n",
       " 'You have to, we have to do more to make our society live up to our founding principles, because because of our history, we currently are far from those principles. ',\n",
       " \"But I believe that if, as a society, we continue to educate ourselves, if we continue to organize whether you're contributing online through signing petitions, making phone calls, sending emails, donating, or getting involved in the streets with protecting protesters, marching, getting involved, just using your vote, lobbying your elected officials, we can dismantle systematic racism in this country. \",\n",
       " 'We can dismantle the fundamental inequities in our country that enable racism to continue to re-ear its ugly head. ',\n",
       " 'But we have to acknowledge that the problem is bigger than personal beliefs. ',\n",
       " 'And we have to, and the only way to recognize that is to educate ourselves and to commit to actively, to actively working to dismantle those systems. ',\n",
       " \"What are some of the things you've done personally, Maga? \",\n",
       " \"Well, obviously, I've signed a petition to call for justice in the case of the killing of George Floyd. \",\n",
       " 'I made a donation to the Minnesota Freedom Fund, and in the coming days, what I want to do is I want to send more emails. ',\n",
       " 'I want to make phone calls calling for justice, not only the case of George Floyd, but in the case of Breonna Taylor and others. ',\n",
       " 'And I want to continue to commit to just educating myself on these issues. ',\n",
       " \"For the past few days, I've learned a lot about systematic racism and about particularly issues of police brutality through simply listening to what other people have had to say and simply educating myself on these issues. \",\n",
       " 'And my hope is that by continuing to stay involved through making phone calls, through signing petitions, through finding other places to donate, and through, frankly, using my voice as a voter and as a citizen, that I can help make a contribution, make a difference in fighting systematic racism. ',\n",
       " \"Obviously, you know, just by donating, just by signing a petition, that alone isn't going to solve systematic racism overnight. \",\n",
       " 'I know that. ',\n",
       " 'But I know that by continuing to commit to staying involved after, you know, these protests end in a fight for justice, staying committed to educating myself and to encouraging others to educate themselves and to staying involved with groups that are committed to these same causes, that will in the long run continue to continue to dismantle these systems of inequity, of racism, of, of inequality. ',\n",
       " 'For you, Mike, for your satisfaction, what needs to happen in the short term and the long term? ',\n",
       " 'All right. ',\n",
       " \"I would say so if you've heard, obviously, Derek Chauvin was arrested for third degree murder earlier this week, I believe actually, I think either Thursday or Friday. \",\n",
       " 'And it is my belief that the charge of third degree murder, which is killing without intent to kill, does not match the crime. ',\n",
       " \"And I would argue that the first thing I need to be done is that George Floyd's killer, pardon me, should be charged with first degree murder. \",\n",
       " \"And I would argue that the other officers involved in George Floyd's death also be, also be charged for George Floyd's killing. \",\n",
       " \"I think that I have heard that there's another video that shows other officers with their knees on George Floyd. \",\n",
       " \"And I think it's clear that this wasn't just Derek Chauvin alone, that the other officers were involved in George Floyd's killing and that they should be prosecuted for that. \",\n",
       " 'And yeah, I think in the immediate, in the immediate term, I also want to see prosecutions for the killing of Breonna Taylor and those others who have been killed this week, such as Tony McDade. ',\n",
       " \"And I would also, we've talked a lot about the protests. \",\n",
       " 'I believe that the current response of municipalities like Los Angeles and such are allowing for confrontations that are allowing these riots to occur. ',\n",
       " \"And I believe that if we want to see peaceful protests, we want to avoid these, the violence that we've seen, then I believe that the police need to take an immediate reappraisal of how they're approaching these protests. \",\n",
       " \"Because at the current moment, you're seeing videos of protesters being trampled by police horses. \",\n",
       " \"You're seeing there's one video of an NYPD officer throwing the woman to the ground. \",\n",
       " \"There's you have a journalist recording on video police firing tear gas at them. \",\n",
       " 'How is any of that conducive to a peaceful protest? ',\n",
       " \"And in the long run, what I'd like to see is I would like to see a continued, I believe that activists are already doing the list, make a fly continued pressure upon local governments to address these inequities in police departments to address the presence of systematic racism in the police department by changing training curriculums, by training, by listening to what policy experts on the issue and activists have to say on making communities safer. \",\n",
       " 'And by holding our elected officials accountable to uphold their commitments as leaders to all citizens, which is to say, take on system system, systematic racism, take on police brutality. ',\n",
       " \"Don't the burden of solving these problems should not fall exclusively on the citizens who are being who are being affected by these problems. \",\n",
       " 'The leaders we elect to represent us have to get involved and have to have to do something about these issues, not later, but now. ',\n",
       " 'I know that was a bit of a bit of a long answer. ',\n",
       " 'So I hope that I hope I was able to answer your question, Brody. ',\n",
       " \"It's an nice way to close things out. \",\n",
       " \"Well, Micah, let's leave the listeners with this. \",\n",
       " 'What is one thing you challenge them to do? ']"
      ]
     },
     "execution_count": 53,
     "metadata": {},
     "output_type": "execute_result"
    }
   ],
   "source": [
    "df.processed_text[0]"
   ]
  },
  {
   "cell_type": "markdown",
   "id": "1253a547",
   "metadata": {},
   "source": [
    "## Convert processed_text into string"
   ]
  },
  {
   "cell_type": "code",
   "execution_count": 55,
   "id": "48d21a3b",
   "metadata": {},
   "outputs": [],
   "source": [
    "def convert_processed_to_str(text):\n",
    "    res = ''\n",
    "    for sentence in text:\n",
    "        res += sentence\n",
    "        \n",
    "    return res\n",
    "    "
   ]
  },
  {
   "cell_type": "code",
   "execution_count": 56,
   "id": "54cf92bc",
   "metadata": {},
   "outputs": [],
   "source": [
    "df['stringed_text'] = df['processed_text'].apply(convert_processed_to_str) \n"
   ]
  },
  {
   "cell_type": "code",
   "execution_count": 58,
   "id": "c34d65c7",
   "metadata": {},
   "outputs": [
    {
     "data": {
      "text/plain": [
       "Index(['potentialOutPath', 'enclosure', 'category1', 'category2', 'category3',\n",
       "       'category4', 'category5', 'category6', 'category7', 'category8',\n",
       "       'category9', 'category10', 'processed_text', 'stringed_text'],\n",
       "      dtype='object')"
      ]
     },
     "execution_count": 58,
     "metadata": {},
     "output_type": "execute_result"
    }
   ],
   "source": [
    "df.columns"
   ]
  },
  {
   "cell_type": "markdown",
   "id": "a124e283",
   "metadata": {},
   "source": [
    "## Reorganize the dataframe columns"
   ]
  },
  {
   "cell_type": "code",
   "execution_count": 60,
   "id": "3e077efa",
   "metadata": {},
   "outputs": [],
   "source": [
    "organized_data = {\n",
    "    'transcript_to_chunk': df.processed_text,\n",
    "    'path':df.potentialOutPath,\n",
    "    'url':df.enclosure,\n",
    "    'cat1':df.category1,\n",
    "    'cat2':df.category2,\n",
    "    'cat3':df.category3,\n",
    "    'cat4':df.category4,\n",
    "    'cat5':df.category5,\n",
    "    'cat6':df.category6,\n",
    "    'cat7':df.category7,\n",
    "    'cat8':df.category8,\n",
    "    'cat9':df.category9,\n",
    "    'cat10':df.category10,\n",
    "    'transcript_annotate':df.stringed_text,\n",
    "#     'human_label':''\n",
    "#     'note': ''\n",
    "    \n",
    "}\n",
    "\n",
    "df_final = pd.DataFrame(organized_data)\n"
   ]
  },
  {
   "cell_type": "code",
   "execution_count": 61,
   "id": "57d7f5fa",
   "metadata": {},
   "outputs": [],
   "source": [
    "df_final['human_label'] = ''\n",
    "df_final['note'] = ''\n"
   ]
  },
  {
   "cell_type": "code",
   "execution_count": 62,
   "id": "45839e61",
   "metadata": {},
   "outputs": [
    {
     "data": {
      "text/html": [
       "<div>\n",
       "<style scoped>\n",
       "    .dataframe tbody tr th:only-of-type {\n",
       "        vertical-align: middle;\n",
       "    }\n",
       "\n",
       "    .dataframe tbody tr th {\n",
       "        vertical-align: top;\n",
       "    }\n",
       "\n",
       "    .dataframe thead th {\n",
       "        text-align: right;\n",
       "    }\n",
       "</style>\n",
       "<table border=\"1\" class=\"dataframe\">\n",
       "  <thead>\n",
       "    <tr style=\"text-align: right;\">\n",
       "      <th></th>\n",
       "      <th>transcript_to_chunk</th>\n",
       "      <th>path</th>\n",
       "      <th>url</th>\n",
       "      <th>cat1</th>\n",
       "      <th>cat2</th>\n",
       "      <th>cat3</th>\n",
       "      <th>cat4</th>\n",
       "      <th>cat5</th>\n",
       "      <th>cat6</th>\n",
       "      <th>cat7</th>\n",
       "      <th>cat8</th>\n",
       "      <th>cat9</th>\n",
       "      <th>cat10</th>\n",
       "      <th>transcript_annotate</th>\n",
       "      <th>human_label</th>\n",
       "      <th>note</th>\n",
       "    </tr>\n",
       "  </thead>\n",
       "  <tbody>\n",
       "    <tr>\n",
       "      <th>5113</th>\n",
       "      <td>[So from the state and local perspective facin...</td>\n",
       "      <td>/chrt.fm/7a/httpschrt.fmtrackD3F8DGtraffic.meg...</td>\n",
       "      <td>https://chrt.fm/track/D3F8DG/traffic.megaphone...</td>\n",
       "      <td>news</td>\n",
       "      <td>politics</td>\n",
       "      <td>government</td>\n",
       "      <td>NaN</td>\n",
       "      <td>NaN</td>\n",
       "      <td>NaN</td>\n",
       "      <td>NaN</td>\n",
       "      <td>NaN</td>\n",
       "      <td>NaN</td>\n",
       "      <td>NaN</td>\n",
       "      <td>So from the state and local perspective facing...</td>\n",
       "      <td></td>\n",
       "      <td></td>\n",
       "    </tr>\n",
       "  </tbody>\n",
       "</table>\n",
       "</div>"
      ],
      "text/plain": [
       "                                    transcript_to_chunk  \\\n",
       "5113  [So from the state and local perspective facin...   \n",
       "\n",
       "                                                   path  \\\n",
       "5113  /chrt.fm/7a/httpschrt.fmtrackD3F8DGtraffic.meg...   \n",
       "\n",
       "                                                    url  cat1      cat2  \\\n",
       "5113  https://chrt.fm/track/D3F8DG/traffic.megaphone...  news  politics   \n",
       "\n",
       "            cat3 cat4 cat5 cat6 cat7 cat8 cat9  cat10  \\\n",
       "5113  government  NaN  NaN  NaN  NaN  NaN  NaN    NaN   \n",
       "\n",
       "                                    transcript_annotate human_label note  \n",
       "5113  So from the state and local perspective facing...                   "
      ]
     },
     "execution_count": 62,
     "metadata": {},
     "output_type": "execute_result"
    }
   ],
   "source": [
    "df_final.head(1)"
   ]
  },
  {
   "cell_type": "code",
   "execution_count": 67,
   "id": "27c5891d",
   "metadata": {},
   "outputs": [],
   "source": [
    "df_final = df_final.sample(frac=1/6, random_state=1).reset_index(drop=True)"
   ]
  },
  {
   "cell_type": "code",
   "execution_count": 69,
   "id": "a87f549e",
   "metadata": {},
   "outputs": [],
   "source": [
    "df_final.to_csv('transcripts_to_annotate.csv',index=False)"
   ]
  },
  {
   "cell_type": "code",
   "execution_count": 71,
   "id": "0a6f21c9",
   "metadata": {},
   "outputs": [
    {
     "data": {
      "text/plain": [
       "(1021, 16)"
      ]
     },
     "execution_count": 71,
     "metadata": {},
     "output_type": "execute_result"
    }
   ],
   "source": [
    "df_final.shape"
   ]
  },
  {
   "cell_type": "code",
   "execution_count": 72,
   "id": "05001c56",
   "metadata": {},
   "outputs": [
    {
     "data": {
      "text/plain": [
       "Index(['transcript_to_chunk', 'path', 'url', 'cat1', 'cat2', 'cat3', 'cat4',\n",
       "       'cat5', 'cat6', 'cat7', 'cat8', 'cat9', 'cat10', 'transcript_annotate',\n",
       "       'human_label', 'note'],\n",
       "      dtype='object')"
      ]
     },
     "execution_count": 72,
     "metadata": {},
     "output_type": "execute_result"
    }
   ],
   "source": [
    "df_final.columns"
   ]
  },
  {
   "cell_type": "code",
   "execution_count": 73,
   "id": "d140dd38",
   "metadata": {},
   "outputs": [],
   "source": [
    "df_final = df_final[df_final['transcript_annotate'].str.strip() != '']"
   ]
  },
  {
   "cell_type": "code",
   "execution_count": 74,
   "id": "71e74cf4",
   "metadata": {},
   "outputs": [
    {
     "data": {
      "text/plain": [
       "(1021, 16)"
      ]
     },
     "execution_count": 74,
     "metadata": {},
     "output_type": "execute_result"
    }
   ],
   "source": [
    "df_final.shape"
   ]
  },
  {
   "cell_type": "code",
   "execution_count": null,
   "id": "9df3cceb",
   "metadata": {},
   "outputs": [],
   "source": []
  }
 ],
 "metadata": {
  "kernelspec": {
   "display_name": "Python 3 (ipykernel)",
   "language": "python",
   "name": "python3"
  },
  "language_info": {
   "codemirror_mode": {
    "name": "ipython",
    "version": 3
   },
   "file_extension": ".py",
   "mimetype": "text/x-python",
   "name": "python",
   "nbconvert_exporter": "python",
   "pygments_lexer": "ipython3",
   "version": "3.9.12"
  }
 },
 "nbformat": 4,
 "nbformat_minor": 5
}
